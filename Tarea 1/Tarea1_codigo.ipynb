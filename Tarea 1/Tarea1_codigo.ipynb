{
  "cells": [
    {
      "cell_type": "markdown",
      "id": "efacab55",
      "metadata": {
        "id": "efacab55"
      },
      "source": [
        "# Tarea 1\n",
        "### Modelos no paramétricos y de regresión\n",
        "\n",
        "##### Por: Alberto Olvera Trejo"
      ]
    },
    {
      "cell_type": "code",
      "execution_count": 22,
      "id": "GQ3QFZZm3XxS",
      "metadata": {
        "id": "GQ3QFZZm3XxS"
      },
      "outputs": [],
      "source": [
        "import numpy as np\n",
        "from scipy.stats import binom\n",
        "import scipy.stats\n",
        "import matplotlib.pyplot as plt\n",
        "\n",
        "# !pip install import-ipynb\n",
        "import import_ipynb\n",
        "\n",
        "from TestEquality import *"
      ]
    },
    {
      "cell_type": "markdown",
      "id": "53261d41",
      "metadata": {
        "id": "53261d41"
      },
      "source": [
        "### Ejercicio 1\n",
        "\n",
        "El porcentaje del contenido de agua en tierras de cultivo varía ligeramente en áreas grandes y estas variaciones pueden asociarse a aspectos relacionados con la calidad del drenaje. Se toman dos muestras de $10$ cuadrantes cada una del porcentaje de agua en el terreno, y una  muestra en otros 10. Se desea sostener la hipótesis de una mediana de $9$ con un nivel de error del $5\\%$.\n",
        "- Realiza la prueba con una sola muestra y luego con ambas. Discute tus resultados.\n",
        "- Construye un intervalo del $95\\%$ de confianza para la mediana considerando ambas muestras.\n",
        "\n",
        "| Muestra 1  | Muestra 2 |\n",
        "|------------|-----------|\n",
        "|     5.5    |    5.6    |\n",
        "|     6.0    |    6.1    |\n",
        "|     6.5    |    6.3    |\n",
        "|     7.6    |    6.3    |\n",
        "|     7.6    |    6.5    |\n",
        "|     7.7    |    6.6    |\n",
        "|     8.0    |    7.0    |\n",
        "|     8.2    |    7.5    |\n",
        "|     9.1    |    7.9    |\n",
        "|     15.1   |    8.0    |\n",
        "|            |    8.0    |\n",
        "|            |    8.1    |\n",
        "|            |    8.1    |\n",
        "|            |    8.3    |\n",
        "|            |    8.4    |\n",
        "|            |    8.5    |\n",
        "|            |    8.7    |\n",
        "|            |    9.4    |\n",
        "|            |    14.3   |\n",
        "|            |    26.0   |\n"
      ]
    },
    {
      "cell_type": "markdown",
      "id": "e0e13f40",
      "metadata": {
        "id": "e0e13f40"
      },
      "source": [
        "##### a) Prueba con una sola muestra"
      ]
    },
    {
      "cell_type": "code",
      "execution_count": 23,
      "id": "329558b1",
      "metadata": {
        "colab": {
          "base_uri": "https://localhost:8080/"
        },
        "id": "329558b1",
        "outputId": "cb6dba58-7cb6-4e60-feef-c8172d194912"
      },
      "outputs": [
        {
          "ename": "AttributeError",
          "evalue": "'numpy.ufunc' object has no attribute 'cdf'",
          "output_type": "error",
          "traceback": [
            "\u001b[1;31m---------------------------------------------------------------------------\u001b[0m",
            "\u001b[1;31mAttributeError\u001b[0m                            Traceback (most recent call last)",
            "\u001b[1;32mc:\\Users\\PC\\Documents\\GitHub\\Modelos-no-Parametricos-y-de-Regresion\\Tarea 1\\Tarea1_codigo.ipynb Celda 5\u001b[0m in \u001b[0;36m<module>\u001b[1;34m\u001b[0m\n\u001b[0;32m     <a href='vscode-notebook-cell:/c%3A/Users/PC/Documents/GitHub/Modelos-no-Parametricos-y-de-Regresion/Tarea%201/Tarea1_codigo.ipynb#W4sZmlsZQ%3D%3D?line=19'>20</a>\u001b[0m k_2 \u001b[39m-\u001b[39m\u001b[39m=\u001b[39m \u001b[39m1\u001b[39m\n\u001b[0;32m     <a href='vscode-notebook-cell:/c%3A/Users/PC/Documents/GitHub/Modelos-no-Parametricos-y-de-Regresion/Tarea%201/Tarea1_codigo.ipynb#W4sZmlsZQ%3D%3D?line=21'>22</a>\u001b[0m \u001b[39m#calculamos las probas de ambas colas\u001b[39;00m\n\u001b[1;32m---> <a href='vscode-notebook-cell:/c%3A/Users/PC/Documents/GitHub/Modelos-no-Parametricos-y-de-Regresion/Tarea%201/Tarea1_codigo.ipynb#W4sZmlsZQ%3D%3D?line=22'>23</a>\u001b[0m p1 \u001b[39m=\u001b[39m binom\u001b[39m.\u001b[39;49mcdf(k_1, n, p)\n\u001b[0;32m     <a href='vscode-notebook-cell:/c%3A/Users/PC/Documents/GitHub/Modelos-no-Parametricos-y-de-Regresion/Tarea%201/Tarea1_codigo.ipynb#W4sZmlsZQ%3D%3D?line=23'>24</a>\u001b[0m p2 \u001b[39m=\u001b[39m \u001b[39m1\u001b[39m \u001b[39m-\u001b[39m binom\u001b[39m.\u001b[39mcdf(k_2, n, p, loc \u001b[39m=\u001b[39m \u001b[39m0\u001b[39m)\n\u001b[0;32m     <a href='vscode-notebook-cell:/c%3A/Users/PC/Documents/GitHub/Modelos-no-Parametricos-y-de-Regresion/Tarea%201/Tarea1_codigo.ipynb#W4sZmlsZQ%3D%3D?line=25'>26</a>\u001b[0m proba \u001b[39m=\u001b[39m p1 \u001b[39m+\u001b[39m p2\n",
            "\u001b[1;31mAttributeError\u001b[0m: 'numpy.ufunc' object has no attribute 'cdf'"
          ]
        }
      ],
      "source": [
        "alfa = 0.05\n",
        "mediana_0 = 9\n",
        "\n",
        "#guardamos los datos en un vector y eliminamos los repetidos\n",
        "X_1 = np.array([5.5, 6.0, 6.5, 7.6, 7.6, 7.7, 8.0, 8.2, 9.1, 15.1])\n",
        "X_1 = np.unique(X_1)\n",
        "\n",
        "#Calculamos la K observada, es decir, los signos positivos\n",
        "K_obs = len(X_1[X_1 > mediana_0])\n",
        "\n",
        "#Calculamos la region de rechazo\n",
        "proba = 0\n",
        "k_1 = 1\n",
        "k_2 = len(X_1) + 1\n",
        "n = len(X_1)\n",
        "p = 1/2\n",
        "\n",
        "while proba <= alfa and (k_1 <= k_2):\n",
        "  k_1 += 1\n",
        "  k_2 -= 1\n",
        "\n",
        "  #calculamos las probas de ambas colas\n",
        "  p1 = binom.cdf(k_1, n, p)\n",
        "  p2 = 1 - binom.cdf(k_2, n, p, loc = 0)\n",
        "\n",
        "  proba = p1 + p2\n",
        "  print(proba)\n",
        "\n",
        "k_1 -= 1\n",
        "k_2 += 1\n",
        "\n",
        "print(f'Rechazar H_0 si K_obs <= {k_1} o si K_obs >= {k_2}')\n",
        "print(f'K_obs = {K_obs}')"
      ]
    },
    {
      "cell_type": "code",
      "execution_count": null,
      "id": "77dad6dd",
      "metadata": {},
      "outputs": [
        {
          "data": {
            "text/plain": [
              "0.1171875"
            ]
          },
          "execution_count": 17,
          "metadata": {},
          "output_type": "execute_result"
        }
      ],
      "source": [
        "binom.pmf(3, 10, 1/2)"
      ]
    },
    {
      "cell_type": "markdown",
      "id": "T0CdwF-Z5YjX",
      "metadata": {
        "id": "T0CdwF-Z5YjX"
      },
      "source": [
        "En este caso no rechazamos H_0, por lo que hay evidencia estadística de que la mediana de la muestra es $9$\n",
        "\n",
        "\n",
        "Ahora realizamos la prueba con las dos muestras"
      ]
    },
    {
      "cell_type": "code",
      "execution_count": null,
      "id": "fOgaAiQr5abB",
      "metadata": {
        "colab": {
          "base_uri": "https://localhost:8080/"
        },
        "id": "fOgaAiQr5abB",
        "outputId": "1404f389-f519-4af4-acaf-fb589b33f944"
      },
      "outputs": [
        {
          "name": "stdout",
          "output_type": "stream",
          "text": [
            "5.245208740234375e-06\n",
            "4.400312900543213e-05\n",
            "0.00026716291904449463\n",
            "0.001252204179763794\n",
            "0.004721641540527344\n",
            "0.014746397733688354\n",
            "0.039006307721138\n",
            "0.08899642527103424\n",
            "\n",
            "****Rechazar H_0 si K_obs <= 8 o si K_obs >= 20\n",
            "K_obs = 5\n"
          ]
        }
      ],
      "source": [
        "X_2 = np.array([5.6, 6.1, 6.3, 6.3, 6.5, 6.6, 7.0, 7.5, 7.9, 8.0, 8.0, 8.1, 8.1, 8.3, 8.4, 8.5, 8.7, 9.4, 14.3, 26.0])\n",
        "X_2 = np.unique(X_2)\n",
        "\n",
        "X = np.concatenate((X_1, X_2), axis = 0)\n",
        "\n",
        "K_obs = len(X[X > mediana_0])\n",
        "\n",
        "#Calculamos la region de rechazo\n",
        "proba = 0\n",
        "k_1 = 1\n",
        "k_2 = len(X) + 1\n",
        "n = len(X)\n",
        "p = 1/2\n",
        "\n",
        "while proba <= alfa and (k_1 <= k_2):\n",
        "  k_1 += 1\n",
        "  k_2 -= 1\n",
        "\n",
        "  #calculamos las probas de ambas colas\n",
        "  p1 = binom.cdf(k_1, n, p, loc = 0)\n",
        "  p2 = 1 - binom.cdf(k_2, n, p, loc = 0)\n",
        "\n",
        "  proba = p1 + p2\n",
        "  print(proba)\n",
        "\n",
        "k_1 -= 1\n",
        "k_2 += 1\n",
        "\n",
        "print()\n",
        "print(f'****Rechazar H_0 si K_obs <= {k_1} o si K_obs >= {k_2}')\n",
        "print(f'K_obs = {K_obs}')"
      ]
    },
    {
      "cell_type": "markdown",
      "id": "O3Q_yxmcOLu4",
      "metadata": {
        "id": "O3Q_yxmcOLu4"
      },
      "source": [
        "En este caso sí rechazamo H0, por lo que concluimos que hay evidencia estadística de que la mediana de la muestra no es $9$"
      ]
    },
    {
      "cell_type": "markdown",
      "id": "a7376c57",
      "metadata": {
        "id": "a7376c57"
      },
      "source": [
        "##### b) Intervalo de confianza para ambas muestras\n",
        "\n",
        "Sabemos que el intervalo de $(1 - \\alpha)100\\%$ de confianza para el cuantil $p$ es:\n",
        "$$[X_{(r)}, X_{(s)}]$$\n",
        "donde $\\kappa_p$ es el cuantil $p$, es decir $\\mathbb{P}[X < \\kappa_p] = p$\n",
        "\n",
        "Luego, usando la región de rechazo se sigue que:\n",
        "$$\\mathbb{P}[k_1 + 1 \\leq K \\leq k_2 - 1 ] = 1 - \\alpha$$\n",
        "\n",
        "Lo anterior sucede si y sólo si:\n",
        "$$\\mathbb{P}[X_{(k_1 + 1)} \\leq K \\leq X_{(k_2 - 1)} ] = 1 - \\alpha$$\n",
        "\n",
        "Entonces el intervalo de $(1 - \\alpha)100\\%$ de confianza para la media está dado por:\n",
        "$$[X_{(k_1 + 1)}, X_{(k_2 - 1)} ]$$\n",
        "\n",
        "Usaremos que cuando $n \\to \\infty$, entonces la distribución binomial se aproxima a la normal para así poder encontrar las constantes $k_1, k_2$. Vamos a sumar $0.5$ para considerar la corrección de continuidad.\n",
        "\n",
        "Sea $z_{\\alpha/2}$ el cuantil $1 - \\alpha/2$ de una normal estandar, entonces:\n",
        "\n",
        "$$\\frac{k_2 - 0.5 - 0.5*n }{0.5\\sqrt{n}} = z_{\\alpha/2} \\hspace{4em} \\frac{k_1 + 0.5 - 0.5*n }{0.5\\sqrt{n}} = -z_{\\alpha/2}$$\n",
        "\n",
        "Despejando:\n",
        "$$k_2 = 0.5*n + 0.5 + 0.5*z_{\\alpha/2}*\\sqrt{n} = s$$\n",
        "$$k_1 + 1 = 0.5*n + 0.5 - 0.5*z_{\\alpha/2}*\\sqrt{n} = r$$\n"
      ]
    },
    {
      "cell_type": "code",
      "execution_count": null,
      "id": "b1dad680",
      "metadata": {
        "colab": {
          "base_uri": "https://localhost:8080/"
        },
        "id": "b1dad680",
        "outputId": "88ee686a-0f7c-4ea4-8d7b-a30abe9f476d"
      },
      "outputs": [
        {
          "name": "stdout",
          "output_type": "stream",
          "text": [
            "El intervalo del 95% de confianza para la media es:\n",
            "[10.132417568848528, 20.867582431151472]\n"
          ]
        }
      ],
      "source": [
        "X = np.array([5.5, 6.0, 6.5, 7.6, 7.6, 7.7, 8.0, 8.2, 9.1, 15.1, 5.6, 6.1,\n",
        "              6.3, 6.3, 6.5, 6.6, 7.0, 7.5, 7.9, 8.0, 8.0, 8.1, 8.1, 8.3, \n",
        "              8.4, 8.5, 8.7, 9.4, 14.3, 26.0])\n",
        "\n",
        "z_alpha2 = scipy.stats.norm.ppf(1 - alfa/2)\n",
        "n = len(X)\n",
        "\n",
        "s = 0.5*n + 0.5 + 0.5*z_alpha2*np.sqrt(n)\n",
        "r = 0.5*n + 0.5 - 0.5*z_alpha2*np.sqrt(n)\n",
        "\n",
        "print(f'El intervalo del 95% de confianza para la media es:')\n",
        "print(f'[{r}, {s}]') "
      ]
    },
    {
      "cell_type": "markdown",
      "id": "39447509",
      "metadata": {
        "id": "39447509"
      },
      "source": [
        "### Ejercicio 2\n",
        "\n",
        "I. Geffen, Bradshaw and Nettleton (1973) querían saber si ciertos números presentados de manera aleatoria se percivían más rápidamente por el campo visual del ojo derecho (RVF) o por el izquierdo (LVF), o si no había una\n",
        "diferencia consistente. A cada uno de $12$ sujetos se les midio el tiempo medio de respuesta a informacion digital  ́\n",
        "en los dos campos visuales (medidos en microsegundos).\n",
        "¿Hay evidencia en los datos que apoye una diferecia en la respuesta?\n",
        "\n",
        "| RVF | LVF |\n",
        "|-----|-----|\n",
        "| 564 | 557 |\n",
        "| 521 | 505 |\n",
        "| 495 | 465 |\n",
        "| 564 | 562 |\n",
        "| 560 | 544 |\n",
        "| 481 | 448 |\n",
        "| 545 | 531 |\n",
        "| 478 | 458 |\n",
        "| 580 | 560 |\n",
        "| 484 | 485 |\n",
        "| 539 | 520 |\n",
        "| 467 | 445 |\n"
      ]
    },
    {
      "cell_type": "code",
      "execution_count": null,
      "id": "1286b86b",
      "metadata": {
        "colab": {
          "base_uri": "https://localhost:8080/",
          "height": 334
        },
        "id": "1286b86b",
        "outputId": "ec328401-44fa-4c5e-84ce-428aedf82da3"
      },
      "outputs": [
        {
          "data": {
            "text/plain": [
              "(array([2., 2., 0., 1., 0., 1., 1., 1., 1., 3.]),\n",
              " array([445. , 456.7, 468.4, 480.1, 491.8, 503.5, 515.2, 526.9, 538.6,\n",
              "        550.3, 562. ]),\n",
              " <BarContainer object of 10 artists>)"
            ]
          },
          "execution_count": 20,
          "metadata": {},
          "output_type": "execute_result"
        },
        {
          "data": {
            "image/png": "[encoded data removed]",
            "text/plain": [
              "<Figure size 432x288 with 1 Axes>"
            ]
          },
          "metadata": {
            "needs_background": "light"
          },
          "output_type": "display_data"
        }
      ],
      "source": [
        "#Definimos los arreglos\n",
        "x = np.array([564, 521, 495, 564, 560, 481, 545, 478, 580, 484, 539, 467])\n",
        "y = np.array([557, 505, 465, 562, 544, 448, 531, 458, 560, 485, 520, 445])\n",
        "\n",
        "plt.hist(x)\n",
        "plt.hist(y)"
      ]
    },
    {
      "cell_type": "code",
      "execution_count": null,
      "id": "J3VEGQbrxp6W",
      "metadata": {
        "id": "J3VEGQbrxp6W"
      },
      "outputs": [
        {
          "name": "stdout",
          "output_type": "stream",
          "text": [
            "H_0: F_X = F_Y v.s H_a: F_X < F_Y\n",
            "Rechazar H_0: F_X = F_Y si: Z <= -1.645\n",
            "Valor que tomó la estadística U': U'_obs = 43\n",
            "Valor que tomó la estadística Z': Z'_obs = -0.329\n",
            "->No rechazamos H_0 con nivel de significancia 5.0%\n"
          ]
        }
      ],
      "source": [
        "#usamos las funciones creadas en el archivo TestEquality.ipynb\n",
        "mw = MannWhitneyTest(x, y)\n",
        "mw.run_test(alternative = 'F_X < F_Y')"
      ]
    },
    {
      "cell_type": "markdown",
      "id": "80db34a6",
      "metadata": {
        "id": "80db34a6"
      },
      "source": [
        "### Ejercicio 3\n",
        "\n",
        "Una psicóloga quiere saber si las mujeres se molestan más que los hombres cuando hay restrasos en su admisión al hospital para someterse a una cirugía de rutina. Se desarrolla un índice de ansiedad y se mide a los pacientes una\n",
        "semana antes de la admision programada; este se mide a $17$ hombres y a $23$ mujeres. \n",
        "El índice oscila entre $1$ y $40$ en una escala de incremento de ansiedad. La suma de rangos de los $17$ hombres es $428$. ¿Hay evidenica en los datos de que la ansiedad dependa del sexo? Si la hay, ¿que género biológico presenta más ansiedad?  ́"
      ]
    },
    {
      "cell_type": "code",
      "execution_count": null,
      "id": "23e5a0ec",
      "metadata": {
        "id": "23e5a0ec"
      },
      "outputs": [],
      "source": []
    },
    {
      "cell_type": "markdown",
      "id": "4e3bfb64",
      "metadata": {
        "id": "4e3bfb64"
      },
      "source": [
        "### Ejercicio 4\n",
        "\n",
        "Un modelo genético sugiere que las probabilidades de un evento trinomial son\n",
        "$$\n",
        "\\begin{align*}\n",
        "    \\theta_1 &= p^{2} \\\\\n",
        "    \\theta_2 &= 2p(1-p) \\\\\n",
        "    \\theta_3 &= (1-p)^{2}\n",
        "\\end{align*}\n",
        "$$\n",
        "con $0<p<1$.\n",
        "\n",
        "Asume que $X_1, X_2$ y $X_3$ representan las frecuencias observadas a cada categoría en una muestra de $n$ ensayos independientes, respectivamente. Obtén una prueba de bondad de ajuste de tipo $\\chi ^{2}$ para esta distribución trinomial si $p$ es desconocida.\n"
      ]
    },
    {
      "cell_type": "code",
      "execution_count": null,
      "id": "d4712cce",
      "metadata": {
        "id": "d4712cce"
      },
      "outputs": [],
      "source": []
    },
    {
      "cell_type": "markdown",
      "id": "649d1a79",
      "metadata": {
        "id": "649d1a79"
      },
      "source": [
        "### Ejercicio 5\n",
        "\n",
        "La tabla muestra el número de espectáculos de debutaron en Broadway durante 1998. Pruebe la hipótesis de que el número de espectáculos que abren por mes sigue una distribución Poisson. ¿Cómo podrías explicar el patrón de comportamiento observado tomando en cuenta los patrones de turismo?\n",
        "\n",
        "|   Mes   | Número de show |    Mes     | Número de show |\n",
        "|:-------:|:--------------:|:----------:|:--------------:|\n",
        "|  Enero  |        6       | Julio      |        2       |\n",
        "| Febrero |        3       | Agosto     |        2       |\n",
        "|  Marzo  |       15       | Septiembre |        2       |\n",
        "|  Abril  |       28       | Octubre    |        8       |\n",
        "|  Mayo   |        1       | Noviembre  |       15       |\n",
        "|  Junio  |        2       | Diciembre  |       17       |\n"
      ]
    },
    {
      "cell_type": "code",
      "execution_count": null,
      "id": "589c01c7",
      "metadata": {
        "id": "589c01c7"
      },
      "outputs": [],
      "source": []
    },
    {
      "cell_type": "markdown",
      "id": "9a0d1f51",
      "metadata": {
        "id": "9a0d1f51"
      },
      "source": [
        "### Ejercicio 6\n",
        "\n",
        "La oficina de correos quiere determinar si hay una relación entre el peso en kilogramos de la correspondencia de un día y el número de empleados que se requiere para procesarla. ¿Que concluirías dada la siguiente tabla?\n",
        "\n",
        "\n",
        "| Peso | Empleados |\n",
        "|:----:|:---------:|\n",
        "|  13  |     14    |\n",
        "|  10  |      8    |\n",
        "|   7  |      5    |\n",
        "|  12  |      9    |\n",
        "|  14  |     10    |\n",
        "|  9.5 |      6    |\n",
        "| 15.5 |     13    |\n",
        "| 16.5 |      6    |\n"
      ]
    },
    {
      "cell_type": "code",
      "execution_count": null,
      "id": "af1bbde0",
      "metadata": {
        "id": "af1bbde0"
      },
      "outputs": [],
      "source": []
    },
    {
      "cell_type": "markdown",
      "id": "c022ef7b",
      "metadata": {
        "id": "c022ef7b"
      },
      "source": [
        "### Ejercicio 7\n",
        "\n",
        "En una muestra nacional de una encuesta realizada por la Secretaría de Educacion Pública y Desarrollo Social, se obtuvo la informacion sobre algunas características de los hogares en Mexico. ¿Existe alguna relación entre las variables escolaridad alcanzada por el jefe de hogar y el tipo de piso en la casa? En caso de existir, ¿qué tan fuerte es la asociacion?\n",
        "\n",
        "<table>\n",
        "  <tr>\n",
        "    <td>&nbsp;</td>\n",
        "    <td>Primaria incompleta</td>\n",
        "    <td>Primaria completa</td>\n",
        "    <td>Secundaria completa</td>\n",
        "    <td>Más de secundaria</td>\n",
        "  </tr>\n",
        "  <tr>\n",
        "    <td>Piso de tierra</td>\n",
        "    <td>278</td>\n",
        "    <td>625</td>\n",
        "    <td>376</td>\n",
        "    <td>258</td>\n",
        "  </tr>\n",
        "  <tr>\n",
        "    <td>Piso de cemento</td>\n",
        "    <td>488</td>\n",
        "    <td>1443</td>\n",
        "    <td>1405</td>\n",
        "    <td>2802</td>\n",
        "  </tr>\n",
        "  <tr>\n",
        "    <td>Piso de mosaico</td>\n",
        "    <td>47</td>\n",
        "    <td>235</td>\n",
        "    <td>405</td>\n",
        "    <td>1448</td>\n",
        "  </tr>\n",
        "</table>\n"
      ]
    },
    {
      "cell_type": "code",
      "execution_count": null,
      "id": "615dfd40",
      "metadata": {
        "id": "615dfd40"
      },
      "outputs": [],
      "source": []
    },
    {
      "cell_type": "markdown",
      "id": "c0f04bf4",
      "metadata": {
        "id": "c0f04bf4"
      },
      "source": [
        "### Ejercicio 8\n",
        "\n",
        "Simula $10$ observaciones de una distribución normal con media $2$ y varianza $4$. \n",
        "Considere las hipótesis:\n",
        "\n",
        "$$\n",
        "\\begin{align*}\n",
        "    H_0 : F_X(x) &\\text{ es una distribución normal}\\\\\n",
        "        &\\text{v.s} \\\\\n",
        "    H_a : F_X(x) &\\text{ no es una distribución normal}\n",
        "\\end{align*}\n",
        "$$\n",
        "\n",
        "Considera las pruebas de Kolmogorov-Smirnov, Anderson-Darling, Shapiro-Wilks y Cramer Von Mises para probar la hipótesis. ¿Todas las pruebas coinciden en la decisión? ¿Qué concluirías con $\\alpha=0.10$?\n"
      ]
    },
    {
      "cell_type": "code",
      "execution_count": null,
      "id": "aefbee77",
      "metadata": {
        "id": "aefbee77"
      },
      "outputs": [],
      "source": []
    },
    {
      "cell_type": "markdown",
      "id": "61e45abd",
      "metadata": {
        "id": "61e45abd"
      },
      "source": [
        "### Ejercicio 9\n",
        "\n",
        "Simula $n=10$ observaciones de una distribución t-Student con $3$ grados de libertad. \n",
        "Considere las hipótesis:\n",
        "\n",
        "$$\n",
        "\\begin{align*}\n",
        "    H_0 : F_X(x) &\\text{ es una distribución normal}\\\\\n",
        "        &\\text{v.s} \\\\\n",
        "    H_a : F_X(x) &\\text{ no es una distribución normal}\n",
        "\\end{align*}\n",
        "$$\n",
        "\n",
        "Considera las pruebas de Kolmogorov-Smirnov, Anderson-Darling, Shapiro-Wilks y Cramer Von Mises para probar la hipótesis. ¿Todas las pruebas coinciden en la decisión? ¿Qué concluirías con $\\alpha=0.10$? Si aumentas $n$, ¿qué puedes decir sobre las pruebas? Nota: Prueba varios valores para $n$.\n"
      ]
    },
    {
      "cell_type": "code",
      "execution_count": null,
      "id": "e96f7127",
      "metadata": {
        "id": "e96f7127"
      },
      "outputs": [],
      "source": []
    },
    {
      "cell_type": "markdown",
      "id": "226c8e24",
      "metadata": {
        "id": "226c8e24"
      },
      "source": [
        "### Ejercicio 10\n",
        "\n",
        "Repite los ejercicios 8 y 9 para muestras de tamaño $100$."
      ]
    },
    {
      "cell_type": "code",
      "execution_count": null,
      "id": "ec72c9d6",
      "metadata": {
        "id": "ec72c9d6"
      },
      "outputs": [],
      "source": []
    }
  ],
  "metadata": {
    "colab": {
      "collapsed_sections": [
        "80db34a6",
        "4e3bfb64",
        "649d1a79",
        "9a0d1f51",
        "c022ef7b",
        "c0f04bf4",
        "61e45abd",
        "226c8e24"
      ],
      "provenance": []
    },
    "kernelspec": {
      "display_name": "Python 3",
      "language": "python",
      "name": "python3"
    },
    "language_info": {
      "codemirror_mode": {
        "name": "ipython",
        "version": 3
      },
      "file_extension": ".py",
      "mimetype": "text/x-python",
      "name": "python",
      "nbconvert_exporter": "python",
      "pygments_lexer": "ipython3",
      "version": "3.10.2"
    },
    "vscode": {
      "interpreter": {
        "hash": "26de051ba29f2982a8de78e945f0abaf191376122a1563185a90213a26c5da77"
      }
    }
  },
  "nbformat": 4,
  "nbformat_minor": 5
}
