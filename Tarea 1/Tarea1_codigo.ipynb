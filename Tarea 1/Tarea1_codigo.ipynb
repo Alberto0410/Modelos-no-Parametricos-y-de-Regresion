{
  "cells": [
    {
      "cell_type": "markdown",
      "id": "efacab55",
      "metadata": {
        "id": "efacab55"
      },
      "source": [
        "# Tarea 1\n",
        "### Modelos no paramétricos y de regresión\n",
        "\n",
        "##### Por: Alberto Olvera Trejo"
      ]
    },
    {
      "cell_type": "code",
      "execution_count": 20,
      "id": "GQ3QFZZm3XxS",
      "metadata": {
        "id": "GQ3QFZZm3XxS"
      },
      "outputs": [],
      "source": [
        "import numpy as np\n",
        "from scipy.stats import binom\n",
        "import scipy.stats as stats\n",
        "import matplotlib.pyplot as plt\n",
        "from scipy.stats import poisson\n",
        "from scipy.stats import chi2\n",
        "from scipy.stats import anderson\n",
        "from scipy.stats import t\n",
        "from scipy.stats import chi2_contingency\n",
        "# !pip install import-ipynb\n",
        "import import_ipynb\n",
        "\n",
        "from TestEquality import *"
      ]
    },
    {
      "cell_type": "markdown",
      "id": "53261d41",
      "metadata": {
        "id": "53261d41"
      },
      "source": [
        "### Ejercicio 1\n",
        "\n",
        "El porcentaje del contenido de agua en tierras de cultivo varía ligeramente en áreas grandes y estas variaciones pueden asociarse a aspectos relacionados con la calidad del drenaje. Se toman dos muestras de $10$ cuadrantes cada una del porcentaje de agua en el terreno, y una  muestra en otros 10. Se desea sostener la hipótesis de una mediana de $9$ con un nivel de error del $5\\%$.\n",
        "- Realiza la prueba con una sola muestra y luego con ambas. Discute tus resultados.\n",
        "- Construye un intervalo del $95\\%$ de confianza para la mediana considerando ambas muestras.\n",
        "\n",
        "| Muestra 1  | Muestra 2 |\n",
        "|------------|-----------|\n",
        "|     5.5    |    5.6    |\n",
        "|     6.0    |    6.1    |\n",
        "|     6.5    |    6.3    |\n",
        "|     7.6    |    6.3    |\n",
        "|     7.6    |    6.5    |\n",
        "|     7.7    |    6.6    |\n",
        "|     8.0    |    7.0    |\n",
        "|     8.2    |    7.5    |\n",
        "|     9.1    |    7.9    |\n",
        "|     15.1   |    8.0    |\n",
        "|            |    8.0    |\n",
        "|            |    8.1    |\n",
        "|            |    8.1    |\n",
        "|            |    8.3    |\n",
        "|            |    8.4    |\n",
        "|            |    8.5    |\n",
        "|            |    8.7    |\n",
        "|            |    9.4    |\n",
        "|            |    14.3   |\n",
        "|            |    26.0   |\n"
      ]
    },
    {
      "cell_type": "markdown",
      "id": "e0e13f40",
      "metadata": {
        "id": "e0e13f40"
      },
      "source": [
        "##### a) Prueba con una sola muestra"
      ]
    },
    {
      "cell_type": "code",
      "execution_count": 21,
      "id": "329558b1",
      "metadata": {
        "colab": {
          "base_uri": "https://localhost:8080/"
        },
        "id": "329558b1",
        "outputId": "cb6dba58-7cb6-4e60-feef-c8172d194912"
      },
      "outputs": [
        {
          "name": "stdout",
          "output_type": "stream",
          "text": [
            "0.08984375\n",
            "Rechazar H_0 si K_obs <= 1 o si K_obs >= 10\n",
            "K_obs = 2\n"
          ]
        }
      ],
      "source": [
        "alfa = 0.05\n",
        "mediana_0 = 9\n",
        "\n",
        "#guardamos los datos en un vector y eliminamos los repetidos\n",
        "X_1 = np.array([5.5, 6.0, 6.5, 7.6, 7.6, 7.7, 8.0, 8.2, 9.1, 15.1])\n",
        "X_1 = np.unique(X_1)\n",
        "\n",
        "#Calculamos la K observada, es decir, los signos positivos\n",
        "K_obs = len(X_1[X_1 > mediana_0])\n",
        "\n",
        "#Calculamos la region de rechazo\n",
        "proba = 0\n",
        "k_1 = 1\n",
        "k_2 = len(X_1) + 1\n",
        "n = len(X_1)\n",
        "p = 1/2\n",
        "\n",
        "while proba <= alfa and (k_1 <= k_2):\n",
        "  k_1 += 1\n",
        "  k_2 -= 1\n",
        "\n",
        "  #calculamos las probas de ambas colas\n",
        "  p1 = binom.cdf(k_1, n, p)\n",
        "  p2 = 1 - binom.cdf(k_2, n, p, loc = 0)\n",
        "\n",
        "  proba = p1 + p2\n",
        "  print(proba)\n",
        "\n",
        "k_1 -= 1\n",
        "k_2 += 1\n",
        "\n",
        "print(f'Rechazar H_0 si K_obs <= {k_1} o si K_obs >= {k_2}')\n",
        "print(f'K_obs = {K_obs}')"
      ]
    },
    {
      "cell_type": "code",
      "execution_count": 22,
      "id": "77dad6dd",
      "metadata": {},
      "outputs": [
        {
          "data": {
            "text/plain": [
              "0.1171875"
            ]
          },
          "execution_count": 22,
          "metadata": {},
          "output_type": "execute_result"
        }
      ],
      "source": [
        "binom.pmf(3, 10, 1/2)"
      ]
    },
    {
      "cell_type": "markdown",
      "id": "T0CdwF-Z5YjX",
      "metadata": {
        "id": "T0CdwF-Z5YjX"
      },
      "source": [
        "En este caso no rechazamos H_0, por lo que hay evidencia estadística de que la mediana de la muestra es $9$\n",
        "\n",
        "\n",
        "Ahora realizamos la prueba con las dos muestras"
      ]
    },
    {
      "cell_type": "code",
      "execution_count": 23,
      "id": "fOgaAiQr5abB",
      "metadata": {
        "colab": {
          "base_uri": "https://localhost:8080/"
        },
        "id": "fOgaAiQr5abB",
        "outputId": "1404f389-f519-4af4-acaf-fb589b33f944"
      },
      "outputs": [
        {
          "name": "stdout",
          "output_type": "stream",
          "text": [
            "5.245208740234375e-06\n",
            "4.400312900543213e-05\n",
            "0.00026716291904449463\n",
            "0.001252204179763794\n",
            "0.004721641540527344\n",
            "0.014746397733688354\n",
            "0.039006307721138\n",
            "0.08899642527103424\n",
            "\n",
            "****Rechazar H_0 si K_obs <= 8 o si K_obs >= 20\n",
            "K_obs = 5\n"
          ]
        }
      ],
      "source": [
        "X_2 = np.array([5.6, 6.1, 6.3, 6.3, 6.5, 6.6, 7.0, 7.5, 7.9, 8.0, 8.0, 8.1, 8.1, 8.3, 8.4, 8.5, 8.7, 9.4, 14.3, 26.0])\n",
        "X_2 = np.unique(X_2)\n",
        "\n",
        "X = np.concatenate((X_1, X_2), axis = 0)\n",
        "\n",
        "K_obs = len(X[X > mediana_0])\n",
        "\n",
        "#Calculamos la region de rechazo\n",
        "proba = 0\n",
        "k_1 = 1\n",
        "k_2 = len(X) + 1\n",
        "n = len(X)\n",
        "p = 1/2\n",
        "\n",
        "while proba <= alfa and (k_1 <= k_2):\n",
        "  k_1 += 1\n",
        "  k_2 -= 1\n",
        "\n",
        "  #calculamos las probas de ambas colas\n",
        "  p1 = binom.cdf(k_1, n, p, loc = 0)\n",
        "  p2 = 1 - binom.cdf(k_2, n, p, loc = 0)\n",
        "\n",
        "  proba = p1 + p2\n",
        "  print(proba)\n",
        "\n",
        "k_1 -= 1\n",
        "k_2 += 1\n",
        "\n",
        "print()\n",
        "print(f'****Rechazar H_0 si K_obs <= {k_1} o si K_obs >= {k_2}')\n",
        "print(f'K_obs = {K_obs}')"
      ]
    },
    {
      "cell_type": "markdown",
      "id": "O3Q_yxmcOLu4",
      "metadata": {
        "id": "O3Q_yxmcOLu4"
      },
      "source": [
        "En este caso sí rechazamo H0, por lo que concluimos que hay evidencia estadística de que la mediana de la muestra no es $9$"
      ]
    },
    {
      "cell_type": "markdown",
      "id": "a7376c57",
      "metadata": {
        "id": "a7376c57"
      },
      "source": [
        "##### b) Intervalo de confianza para ambas muestras\n",
        "\n",
        "Sabemos que el intervalo de $(1 - \\alpha)100\\%$ de confianza para el cuantil $p$ es:\n",
        "$$[X_{(r)}, X_{(s)}]$$\n",
        "donde $\\kappa_p$ es el cuantil $p$, es decir $\\mathbb{P}[X < \\kappa_p] = p$\n",
        "\n",
        "Luego, usando la región de rechazo se sigue que:\n",
        "$$\\mathbb{P}[k_1 + 1 \\leq K \\leq k_2 - 1 ] = 1 - \\alpha$$\n",
        "\n",
        "Lo anterior sucede si y sólo si:\n",
        "$$\\mathbb{P}[X_{(k_1 + 1)} \\leq K \\leq X_{(k_2 - 1)} ] = 1 - \\alpha$$\n",
        "\n",
        "Entonces el intervalo de $(1 - \\alpha)100\\%$ de confianza para la media está dado por:\n",
        "$$[X_{(k_1 + 1)}, X_{(k_2 - 1)} ]$$\n",
        "\n",
        "Usaremos que cuando $n \\to \\infty$, entonces la distribución binomial se aproxima a la normal para así poder encontrar las constantes $k_1, k_2$. Vamos a sumar $0.5$ para considerar la corrección de continuidad.\n",
        "\n",
        "Sea $z_{\\alpha/2}$ el cuantil $1 - \\alpha/2$ de una normal estandar, entonces:\n",
        "\n",
        "$$\\frac{k_2 - 0.5 - 0.5*n }{0.5\\sqrt{n}} = z_{\\alpha/2} \\hspace{4em} \\frac{k_1 + 0.5 - 0.5*n }{0.5\\sqrt{n}} = -z_{\\alpha/2}$$\n",
        "\n",
        "Despejando:\n",
        "$$k_2 = 0.5*n + 0.5 + 0.5*z_{\\alpha/2}*\\sqrt{n} = s$$\n",
        "$$k_1 + 1 = 0.5*n + 0.5 - 0.5*z_{\\alpha/2}*\\sqrt{n} = r$$\n"
      ]
    },
    {
      "cell_type": "code",
      "execution_count": 24,
      "id": "b1dad680",
      "metadata": {
        "colab": {
          "base_uri": "https://localhost:8080/"
        },
        "id": "b1dad680",
        "outputId": "88ee686a-0f7c-4ea4-8d7b-a30abe9f476d"
      },
      "outputs": [
        {
          "name": "stdout",
          "output_type": "stream",
          "text": [
            "El intervalo del 95% de confianza para la media es:\n",
            "[10.132417568848528, 20.867582431151472]\n"
          ]
        }
      ],
      "source": [
        "X = np.array([5.5, 6.0, 6.5, 7.6, 7.6, 7.7, 8.0, 8.2, 9.1, 15.1, 5.6, 6.1,\n",
        "              6.3, 6.3, 6.5, 6.6, 7.0, 7.5, 7.9, 8.0, 8.0, 8.1, 8.1, 8.3, \n",
        "              8.4, 8.5, 8.7, 9.4, 14.3, 26.0])\n",
        "\n",
        "z_alpha2 = stats.norm.ppf(1 - alfa/2)\n",
        "n = len(X)\n",
        "\n",
        "s = 0.5*n + 0.5 + 0.5*z_alpha2*np.sqrt(n)\n",
        "r = 0.5*n + 0.5 - 0.5*z_alpha2*np.sqrt(n)\n",
        "\n",
        "print(f'El intervalo del 95% de confianza para la media es:')\n",
        "print(f'[{r}, {s}]') "
      ]
    },
    {
      "cell_type": "markdown",
      "id": "39447509",
      "metadata": {
        "id": "39447509"
      },
      "source": [
        "### Ejercicio 2\n",
        "\n",
        "I. Geffen, Bradshaw and Nettleton (1973) querían saber si ciertos números presentados de manera aleatoria se percivían más rápidamente por el campo visual del ojo derecho (RVF) o por el izquierdo (LVF), o si no había una\n",
        "diferencia consistente. A cada uno de $12$ sujetos se les midio el tiempo medio de respuesta a informacion digital  ́\n",
        "en los dos campos visuales (medidos en microsegundos).\n",
        "¿Hay evidencia en los datos que apoye una diferecia en la respuesta?\n",
        "\n",
        "| RVF | LVF |\n",
        "|-----|-----|\n",
        "| 564 | 557 |\n",
        "| 521 | 505 |\n",
        "| 495 | 465 |\n",
        "| 564 | 562 |\n",
        "| 560 | 544 |\n",
        "| 481 | 448 |\n",
        "| 545 | 531 |\n",
        "| 478 | 458 |\n",
        "| 580 | 560 |\n",
        "| 484 | 485 |\n",
        "| 539 | 520 |\n",
        "| 467 | 445 |\n"
      ]
    },
    {
      "cell_type": "code",
      "execution_count": 25,
      "id": "1286b86b",
      "metadata": {
        "colab": {
          "base_uri": "https://localhost:8080/",
          "height": 334
        },
        "id": "1286b86b",
        "outputId": "ec328401-44fa-4c5e-84ce-428aedf82da3"
      },
      "outputs": [
        {
          "data": {
            "text/plain": [
              "(array([2., 2., 0., 1., 0., 1., 1., 1., 1., 3.]),\n",
              " array([445. , 456.7, 468.4, 480.1, 491.8, 503.5, 515.2, 526.9, 538.6,\n",
              "        550.3, 562. ]),\n",
              " <BarContainer object of 10 artists>)"
            ]
          },
          "execution_count": 25,
          "metadata": {},
          "output_type": "execute_result"
        },
        {
          "data": {
            "image/png": "[encoded data removed]",
            "text/plain": [
              "<Figure size 432x288 with 1 Axes>"
            ]
          },
          "metadata": {
            "needs_background": "light"
          },
          "output_type": "display_data"
        }
      ],
      "source": [
        "#Definimos los arreglos\n",
        "x = np.array([564, 521, 495, 564, 560, 481, 545, 478, 580, 484, 539, 467])\n",
        "y = np.array([557, 505, 465, 562, 544, 448, 531, 458, 560, 485, 520, 445])\n",
        "\n",
        "plt.hist(x)\n",
        "plt.hist(y)"
      ]
    },
    {
      "cell_type": "code",
      "execution_count": 26,
      "id": "J3VEGQbrxp6W",
      "metadata": {
        "id": "J3VEGQbrxp6W"
      },
      "outputs": [
        {
          "name": "stdout",
          "output_type": "stream",
          "text": [
            "H_0: F_X = F_Y v.s H_a: F_X != F_Y\n",
            "Rechazar H_0: F_X = F_Y si: Z <= -1.960 o Z >= 1.960\n",
            "Valor que tomó la estadística U: U_obs = 78\n",
            "Valor que tomó la estadística Z: Z_obs = 0.348\n",
            "Valor que tomó la estadística U': U'_obs = 43\n",
            "Valor que tomó la estadística Z': Z'_obs = -0.329\n",
            "-> No rechazamos H_0 con nivel de significancia 5.0%\n"
          ]
        }
      ],
      "source": [
        "#usamos las funciones creadas en el archivo TestEquality.ipynb\n",
        "mw = MannWhitneyTest(x, y)\n",
        "mw.run_test(alternative = 'F_Y != F_X')"
      ]
    },
    {
      "cell_type": "code",
      "execution_count": 27,
      "id": "72dbf5c5",
      "metadata": {},
      "outputs": [
        {
          "name": "stdout",
          "output_type": "stream",
          "text": [
            "H_0: F_X = F_Y v.s H_a: F_X != F_Y\n",
            "Rechazar H_0: F_X = F_Y si: Z <= -1.960 o Z >= 1.960\n",
            "Valor que tomó la estadística W: W_obs = 144\n",
            "Valor que tomó la estadística Z: Z_obs = 1.182\n",
            "->No rechazamos H_0 con nivel de significancia 5.0%\n"
          ]
        }
      ],
      "source": [
        "wt = WilcoxonTest(x, y)\n",
        "wt.run_test(alternative = 'F_Y != F_X')"
      ]
    },
    {
      "attachments": {},
      "cell_type": "markdown",
      "id": "506dbaa4",
      "metadata": {},
      "source": [
        "Tando con la prueba U como con la de Wilcoxon no rechazamos H0, por lo que hay evidencia estadística para afirmar que no hay diferencia en la respueta visual"
      ]
    },
    {
      "cell_type": "markdown",
      "id": "80db34a6",
      "metadata": {
        "id": "80db34a6"
      },
      "source": [
        "### Ejercicio 3\n",
        "\n",
        "Una psicóloga quiere saber si las mujeres se molestan más que los hombres cuando hay restrasos en su admisión al hospital para someterse a una cirugía de rutina. Se desarrolla un índice de ansiedad y se mide a los pacientes una\n",
        "semana antes de la admision programada; este se mide a $17$ hombres y a $23$ mujeres. \n",
        "El índice oscila entre $1$ y $40$ en una escala de incremento de ansiedad. La suma de rangos de los $17$ hombres es $428$. ¿Hay evidenica en los datos de que la ansiedad dependa del sexo? Si la hay, ¿que género biológico presenta más ansiedad?  ́"
      ]
    },
    {
      "cell_type": "code",
      "execution_count": 28,
      "id": "23e5a0ec",
      "metadata": {
        "id": "23e5a0ec"
      },
      "outputs": [
        {
          "name": "stdout",
          "output_type": "stream",
          "text": [
            "H_0: F_X = F_Y v.s H_a: F_X < F_Y\n",
            "Rechazar H_0: F_X = F_Y si: Z >= -1.645\n",
            "Valor que tomó la estadística W: W_obs = 2.188770884287842\n",
            "Valor que tomó la estadística Z: Z_obs = 2.189\n",
            "-> Rechazamos H_0 con nivel de significancia 5.0%\n"
          ]
        }
      ],
      "source": [
        "#sabemos que W_obs = 428\n",
        "W_obs = 428\n",
        "\n",
        "#usamos la aproximacion asintotica con correcion de continuidad\n",
        "n1 = 17\n",
        "n2 = 23\n",
        "n = n1 + n2\n",
        "\n",
        "z = W_obs + 0.5 - (n1*(n + 1)/2)\n",
        "z /= np.sqrt(n1*n2*(n + 1)/12)\n",
        "\n",
        "#usaremos una significancia del 5%\n",
        "alfa = 0.05\n",
        "\n",
        "#hacemos la prueba con la hipotesis alternativa de que F_X < F_Y\n",
        "# es decir, los hombres tienen menos ansiedad\n",
        "c_alpha = norm.ppf(q = alfa)\n",
        "print(\"H_0: F_X = F_Y v.s H_a: F_X < F_Y\")\n",
        "print(f\"Rechazar H_0: F_X = F_Y si: Z >= {c_alpha:.3f}\")\n",
        "print(f\"Valor que tomó la estadística W: W_obs = {z}\")\n",
        "print(f\"Valor que tomó la estadística Z: Z_obs = {z:.3f}\")\n",
        "decision = \"-> Rechazamos H_0\" if z >= c_alpha else \"->No rechazamos H_0\"\n",
        "print(decision + f\" con nivel de significancia {alfa*100}%\")      \n",
        "\n"
      ]
    },
    {
      "attachments": {},
      "cell_type": "markdown",
      "id": "0a9e258b",
      "metadata": {},
      "source": [
        "Hay evidencia estadística de que, según el indice de ansiedad desarrollado, los hombres sufren de menos ansiedad"
      ]
    },
    {
      "cell_type": "markdown",
      "id": "4e3bfb64",
      "metadata": {
        "id": "4e3bfb64"
      },
      "source": [
        "### Ejercicio 4\n",
        "\n",
        "Un modelo genético sugiere que las probabilidades de un evento trinomial son\n",
        "$$\n",
        "\\begin{align*}\n",
        "    \\theta_1 &= p^{2} \\\\\n",
        "    \\theta_2 &= 2p(1-p) \\\\\n",
        "    \\theta_3 &= (1-p)^{2}\n",
        "\\end{align*}\n",
        "$$\n",
        "con $0<p<1$.\n",
        "\n",
        "Asume que $X_1, X_2$ y $X_3$ representan las frecuencias observadas a cada categoría en una muestra de $n$ ensayos independientes, respectivamente. Obtén una prueba de bondad de ajuste de tipo $\\chi ^{2}$ para esta distribución trinomial si $p$ es desconocida.\n"
      ]
    },
    {
      "attachments": {},
      "cell_type": "markdown",
      "id": "181df220",
      "metadata": {},
      "source": [
        "### Solución \n",
        "\n",
        "Tenemos dos casos, cuando el valor de $p$ está dado y cuando no lo está. El caso facil es cuando $p$ está dado, pues basta con calcular el valor observado de la $\\chi^2$.\n",
        "Como tenemos las probabilidades del eventro trinomial y las frecuencias observadas, entonces $e_i = n*\\theta_i$ por lo que:\n",
        "$$\\chi^2 = \\frac{(X_1 - np^2)^2}{np^2} + \\frac{(X_2 - n2p(1-p))^2}{n2p(1-p)} + \\frac{(X_3 - n(1-p)^2)^2}{n(1-p)^2}$$\n",
        "\n",
        "Rechazamos $H_0$ en caso de que $\\chi^2 > C_{\\alpha}$, con $C_{\\alpha}$ el cuantil $1 - \\alpha$ de una $\\chi^2_{2}$, pues como tenemos tres categorias, entonces al fijar dos,sabemos cual es la proba de la tercera.\n",
        "\n",
        "\n",
        "Ahora consideremos el caso cuando $p$ no está dada. La estrategia a seguir es buscar un estimador para el parámetro $p$, es decir, buscamos $\\hat{p}$ para de esa manera sustituir $\\hat{p}$ en la formula de arriba y así calcular el valor $\\chi^2_{obs}$. Notemos que bajo $H_0$ tenemos que:\n",
        "$$X_1 \\approx np^2 \\hspace{3em} X_2 \\approx n2p(1-p) = 2np - 2np^2$$\n",
        "\n",
        "Multiplicando $X_1$ por dos y sumandolo X_2 obtenemos:\n",
        "$$2X_1 + X_2 \\approx 2np^2 + 2np - 2np^2 = 2np$$\n",
        "Luego, tenemos que forzosamente $X_1 + X_2 + X_3 = n$, por lo que:\n",
        "$$2X_1 + X_2 \\sim 2np = 2p(X_1 + X_2 + X_3)$$\n",
        "\n",
        "Despejando $p$ obtenemos que:\n",
        "$$\\hat{p} = \\frac{2X_1 + X_2}{2(X_1 + X_2 + X_3)}$$\n",
        "Por lo tanto, ya hemos encontrar un estimador para $p$ y calculamos $\\chi^2_{obs}$ como sigue:\n",
        "$$\\chi^2_{obs} = \\frac{(X_1 - n\\hat{p}^2)^2}{n\\hat{p}^2} + \\frac{(X_2 - n2\\hat{p}(1-\\hat{p}))^2}{n2\\hat{p}(1-\\hat{p})} + \\frac{(X_3 - n(1-\\hat{p})^2)^2}{n(1-\\hat{p})^2}$$\n",
        "Y seguimos la misma regla de decisión (es decir, la misma región crítica) que tomamos cuando $p$ ya estaba dada."
      ]
    },
    {
      "cell_type": "code",
      "execution_count": null,
      "id": "d4712cce",
      "metadata": {
        "id": "d4712cce"
      },
      "outputs": [],
      "source": []
    },
    {
      "cell_type": "markdown",
      "id": "649d1a79",
      "metadata": {
        "id": "649d1a79"
      },
      "source": [
        "### Ejercicio 5\n",
        "\n",
        "La tabla muestra el número de espectáculos de debutaron en Broadway durante 1998. Pruebe la hipótesis de que el número de espectáculos que abren por mes sigue una distribución Poisson. ¿Cómo podrías explicar el patrón de comportamiento observado tomando en cuenta los patrones de turismo?\n",
        "\n",
        "|   Mes   | Número de show |    Mes     | Número de show |\n",
        "|:-------:|:--------------:|:----------:|:--------------:|\n",
        "|  Enero  |        6       | Julio      |        2       |\n",
        "| Febrero |        3       | Agosto     |        2       |\n",
        "|  Marzo  |       15       | Septiembre |        2       |\n",
        "|  Abril  |       28       | Octubre    |        8       |\n",
        "|  Mayo   |        1       | Noviembre  |       15       |\n",
        "|  Junio  |        2       | Diciembre  |       17       |\n"
      ]
    },
    {
      "cell_type": "code",
      "execution_count": 29,
      "id": "589c01c7",
      "metadata": {
        "id": "589c01c7"
      },
      "outputs": [
        {
          "name": "stdout",
          "output_type": "stream",
          "text": [
            "29.057975287297992\n"
          ]
        }
      ],
      "source": [
        "x = np.array([6, 3, 15, 28, 1, 2, 2, 2, 2, 8, 15, 17])\n",
        "\n",
        "#opcional: colapsamos las categorias menores a 5\n",
        "\n",
        "x = np.array([9, 15, 37, 8, 15, 17])\n",
        "\n",
        "n = sum(x)\n",
        "\n",
        "#calculamo el valor de lambda\n",
        "lamb = np.array([i*x[i] for i in range(len(x))])\n",
        "lamb = sum(lamb)/n\n",
        "\n",
        "#calculamos los valores esperados\n",
        "e = n*poisson.pmf([i for i in range(len(x))], lamb, loc = 0)\n",
        "\n",
        "#calculamos el valor observado\n",
        "chi_obs = sum(((x-e)**2)/e)\n",
        "print(chi_obs)"
      ]
    },
    {
      "cell_type": "code",
      "execution_count": 30,
      "id": "478d7ad7",
      "metadata": {},
      "outputs": [
        {
          "name": "stdout",
          "output_type": "stream",
          "text": [
            "11.070497693516351\n"
          ]
        }
      ],
      "source": [
        "#calculamos la region de rachazo recordando que:\n",
        "#rechazamos si Chi_obs > C_alpha\n",
        "\n",
        "c_alpha = chi2.ppf(0.95, len(x) - 1, loc=0, scale=1)\n",
        "print(c_alpha)"
      ]
    },
    {
      "attachments": {},
      "cell_type": "markdown",
      "id": "62d5f20f",
      "metadata": {},
      "source": [
        "Como $\\chi_{obs} = 29.05$ y $C_{\\alpha} = 11.07$, entonces $\\chi_{obs} > C_{\\alpha}$, por lo que rechazamos $H_0$.\n",
        "\n",
        "Así, concluimos que la muestra no tiene distribución Poisson"
      ]
    },
    {
      "cell_type": "markdown",
      "id": "9a0d1f51",
      "metadata": {
        "id": "9a0d1f51"
      },
      "source": [
        "### Ejercicio 6\n",
        "\n",
        "La oficina de correos quiere determinar si hay una relación entre el peso en kilogramos de la correspondencia de un día y el número de empleados que se requiere para procesarla. ¿Que concluirías dada la siguiente tabla?\n",
        "\n",
        "\n",
        "| Peso | Empleados |\n",
        "|:----:|:---------:|\n",
        "|  13  |     14    |\n",
        "|  10  |      8    |\n",
        "|   7  |      5    |\n",
        "|  12  |      9    |\n",
        "|  14  |     10    |\n",
        "|  9.5 |      6    |\n",
        "| 15.5 |     13    |\n",
        "| 16.5 |      6    |\n"
      ]
    },
    {
      "attachments": {},
      "cell_type": "markdown",
      "id": "bb0094b6",
      "metadata": {},
      "source": [
        "### Solución \n",
        "Primero vamos a ploter los datos para ver si existe la posibilidad de que las variables esten relacionadas, en particularmente, si hay relacion lineal."
      ]
    },
    {
      "cell_type": "code",
      "execution_count": 31,
      "id": "44475961",
      "metadata": {},
      "outputs": [
        {
          "data": {
            "text/plain": [
              "[]"
            ]
          },
          "execution_count": 31,
          "metadata": {},
          "output_type": "execute_result"
        },
        {
          "data": {
            "image/png": "[encoded data removed]",
            "text/plain": [
              "<Figure size 432x288 with 1 Axes>"
            ]
          },
          "metadata": {
            "needs_background": "light"
          },
          "output_type": "display_data"
        }
      ],
      "source": [
        "peso = [13, 10, 7, 12, 14, 9.5, 15.5, 16.5]\n",
        "empleados = [14, 8, 5, 9, 10, 6, 13, 6]\n",
        "\n",
        "plt.scatter(peso, empleados)\n",
        "plt.xlabel('Peso')\n",
        "plt.ylabel('Empleados')\n",
        "plt.title('Peso vs Empleados')\n",
        "plt.plot()"
      ]
    },
    {
      "attachments": {},
      "cell_type": "markdown",
      "id": "056aab17",
      "metadata": {},
      "source": [
        "A primera vista se ve que sí podria haber relacion lineal. Para poder descartar la hipótesis de la independencia vamos a usar la prueba de la independecia de variables categóricas.\n",
        "\n",
        "Dado que nuestras variables no son categoricas, entonces las vamos a transformar. Tomemos primero la variable de los Pesos y vamos a ordenarla.\n",
        "\n",
        "$$[7, 9.5, 10, 12, 13, 14, 15.5, 16.5]$$\n",
        "\n",
        "Notamos que la varaible toma valores de $7$ al $16.5$, entonces vamos a particionar dicho intervalo en tres partes, la primera va a ser $[7, 10]$, la segunda $[11, 15]$ y la última $[15.5, 16]$\n",
        "Entonces vamos a contabilizar el número de observaciones en cada intervalo, por lo que de esta manera ya tendriamos una variable categórica.\n",
        "\n",
        "Haciendo lo análogo para la variable Empleados. Al ordenarla obtenemos:\n",
        "$$[5, 6, 6, 8, 9, 10, 13, 14]$$\n",
        "\n",
        "Vamos a partir el intervalo $[5, 14]$ en otros tres intervalos, los cuales son: $[5, 8]$, $[9, 12]$ y $[13, 15]$\n",
        "\n",
        "Dado que ya tenemos dos variables aleatorias, entonces podemos construir una tabla de contingencia, la cual es:\n",
        "\n",
        "<table>\n",
        "  <tr>\n",
        "    <td>Peso/Empleados</td>\n",
        "    <td>[5, 8]</td>\n",
        "    <td>[9, 12]</td>\n",
        "    <td>[13, 15]</td>\n",
        "  </tr>\n",
        "  <tr>\n",
        "    <td>[7, 10]</td>\n",
        "    <td>3</td>\n",
        "    <td>0</td>\n",
        "    <td>0</td>\n",
        "  </tr>\n",
        "  <tr>\n",
        "    <td>[11, 15]</td>\n",
        "    <td>0</td>\n",
        "    <td>2</td>\n",
        "    <td>1</td>\n",
        "  </tr>\n",
        "  <tr>\n",
        "    <td>[15.5, 16]</td>\n",
        "    <td>1</td>\n",
        "    <td>0</td>\n",
        "    <td>1</td>\n",
        "  </tr>\n",
        "</table>\n",
        "\n",
        "Ahora procedemos a hacer la prueba de independecia de varaibles categóricas."
      ]
    },
    {
      "cell_type": "code",
      "execution_count": 32,
      "id": "af1bbde0",
      "metadata": {
        "id": "af1bbde0"
      },
      "outputs": [
        {
          "name": "stdout",
          "output_type": "stream",
          "text": [
            "[[3 0 0 3]\n",
            " [0 2 1 3]\n",
            " [1 0 1 2]\n",
            " [4 2 2 8]]\n",
            "\n",
            "[[1.5  0.75 0.75]\n",
            " [1.5  0.75 0.75]\n",
            " [1.   0.5  0.5 ]]\n"
          ]
        }
      ],
      "source": [
        "A = np.array([ [3, 0, 0], [0, 2, 1], [1, 0, 1] ])\n",
        "B = A.copy()\n",
        "\n",
        "#agragamos las marginales\n",
        "fila = np.array([sum(A[:, i]) for i in range(3)]).reshape(1, 3)\n",
        "\n",
        "columna = [sum(A[i, :]) for i in range(3)]\n",
        "columna.append(sum(columna))\n",
        "columna = np.array(columna).reshape(4, 1)\n",
        "\n",
        "A = np.concatenate((A, fila), axis = 0)\n",
        "A = np.concatenate((A, columna), axis = 1)\n",
        "\n",
        "#calculamos los valores e_ij\n",
        "E = np.zeros((3, 3))\n",
        "n = A[3, 3]\n",
        "\n",
        "for i in range(3):\n",
        "    for j in range(3):\n",
        "        E[i, j] = A[i, -1]*A[-1, j]/n\n",
        "\n",
        "print(A)\n",
        "print()\n",
        "print(E)"
      ]
    },
    {
      "cell_type": "code",
      "execution_count": 33,
      "id": "ca5394fa",
      "metadata": {},
      "outputs": [
        {
          "name": "stdout",
          "output_type": "stream",
          "text": [
            "Chi_obs = 7.666666666666667\n",
            "C_alpha = 7.779440339734858\n"
          ]
        }
      ],
      "source": [
        "#Calculamos el valor observado\n",
        "chi_obs = 0\n",
        "\n",
        "for i in range(3):\n",
        "    for j in range(3):\n",
        "        sumando = ((A[i, j] - E[i, j])**2)/E[i, j]\n",
        "        chi_obs += sumando\n",
        "\n",
        "#Recodamos que rechazamos H0 si Chi_obs > C_alpha, donde\n",
        "# C_alpha es el cuantil 1-alpha de la Chi\n",
        "\n",
        "alpha = 0.05\n",
        "c_alpha = chi2.ppf(0.90, df = 4, loc=0, scale=1)\n",
        "\n",
        "print(f'Chi_obs = {chi_obs}')\n",
        "print(f'C_alpha = {c_alpha}')"
      ]
    },
    {
      "attachments": {},
      "cell_type": "markdown",
      "id": "73bcef60",
      "metadata": {},
      "source": [
        "Si tomamos $\\alpha = 0.9$, entonces notamos que si bien $C_{\\alpha} < \\Chi_{obs}$, la diferencia entre ambos valores es demasiado chica, por lo que estamos muy cerca de entrar a la región crítica. Para poder tomar una mejor decisión, vamos a calcular las medidas de asociación."
      ]
    },
    {
      "cell_type": "code",
      "execution_count": 34,
      "id": "2386609b",
      "metadata": {},
      "outputs": [
        {
          "name": "stdout",
          "output_type": "stream",
          "text": [
            "Coeficiente de continencia de Pearson = 0.9916004111862218\n",
            "Coeficiente T = 3.8333333333333335\n",
            "Coeficiente de Cramer = 5.421151989096865\n"
          ]
        }
      ],
      "source": [
        "#calculamos las medidas de asociacion \n",
        "coef_contin = np.sqrt((chi_obs**2)/(chi_obs**2 + 1))\n",
        "\n",
        "T = np.sqrt((chi_obs**2)/(2*2))\n",
        "\n",
        "V = np.sqrt((chi_obs**2)/(min(2, 2)))\n",
        "\n",
        "print(f'Coeficiente de continencia de Pearson = {coef_contin}')\n",
        "print(f'Coeficiente T = {T}')\n",
        "print(f'Coeficiente de Cramer = {V}')"
      ]
    },
    {
      "attachments": {},
      "cell_type": "markdown",
      "id": "05620d6f",
      "metadata": {},
      "source": [
        "Notamos que el coeficiente de Pearson es muy cercano a 1, por lo que con esta información concluimos que ambas variables están relacionadas"
      ]
    },
    {
      "cell_type": "markdown",
      "id": "c022ef7b",
      "metadata": {
        "id": "c022ef7b"
      },
      "source": [
        "### Ejercicio 7\n",
        "\n",
        "En una muestra nacional de una encuesta realizada por la Secretaría de Educacion Pública y Desarrollo Social, se obtuvo la informacion sobre algunas características de los hogares en Mexico. ¿Existe alguna relación entre las variables escolaridad alcanzada por el jefe de hogar y el tipo de piso en la casa? En caso de existir, ¿qué tan fuerte es la asociacion?\n",
        "\n",
        "<table>\n",
        "  <tr>\n",
        "    <td>&nbsp;</td>\n",
        "    <td>Primaria incompleta</td>\n",
        "    <td>Primaria completa</td>\n",
        "    <td>Secundaria completa</td>\n",
        "    <td>Más de secundaria</td>\n",
        "  </tr>\n",
        "  <tr>\n",
        "    <td>Piso de tierra</td>\n",
        "    <td>278</td>\n",
        "    <td>625</td>\n",
        "    <td>376</td>\n",
        "    <td>258</td>\n",
        "  </tr>\n",
        "  <tr>\n",
        "    <td>Piso de cemento</td>\n",
        "    <td>488</td>\n",
        "    <td>1443</td>\n",
        "    <td>1405</td>\n",
        "    <td>2802</td>\n",
        "  </tr>\n",
        "  <tr>\n",
        "    <td>Piso de mosaico</td>\n",
        "    <td>47</td>\n",
        "    <td>235</td>\n",
        "    <td>405</td>\n",
        "    <td>1448</td>\n",
        "  </tr>\n",
        "</table>\n"
      ]
    },
    {
      "cell_type": "code",
      "execution_count": 35,
      "id": "615dfd40",
      "metadata": {
        "id": "615dfd40"
      },
      "outputs": [
        {
          "name": "stdout",
          "output_type": "stream",
          "text": [
            "[[ 278  625  367  258 1528]\n",
            " [ 488 1443 1405 2802 6138]\n",
            " [  47  235  405 1448 2135]\n",
            " [ 813 2303 2177 4508 9801]]\n",
            "\n",
            "[[ 126.74869911  359.04336292  339.3996531   702.80828487]\n",
            " [ 509.15151515 1442.28282828 1363.37373737 2823.19191919]\n",
            " [ 177.09978574  501.6738088   474.22660953  981.99979594]]\n"
          ]
        }
      ],
      "source": [
        "#cargamos los datos de la matriz\n",
        "A = np.array([ [278, 625, 367, 258], [488, 1443, 1405, 2802], [47, 235, 405, 1448] ])\n",
        "B = A.copy()\n",
        "\n",
        "#agragamos las marginales\n",
        "fila = np.array([sum(A[:, i]) for i in range(4)]).reshape(1, 4)\n",
        "\n",
        "columna = [sum(A[i, :]) for i in range(3)]\n",
        "columna.append(sum(columna))\n",
        "columna = np.array(columna).reshape(4, 1)\n",
        "\n",
        "A = np.concatenate((A, fila), axis = 0)\n",
        "A = np.concatenate((A, columna), axis = 1)\n",
        "\n",
        "#calculamos los valores e_ij\n",
        "E = np.zeros((3, 4))\n",
        "n = A[3, 4]\n",
        "\n",
        "for i in range(3):\n",
        "    for j in range(4):\n",
        "        E[i, j] = A[i, -1]*A[-1, j]/n\n",
        "\n",
        "print(A)\n",
        "print()\n",
        "print(E)"
      ]
    },
    {
      "cell_type": "code",
      "execution_count": 36,
      "id": "43479d46",
      "metadata": {},
      "outputs": [],
      "source": [
        "#Calculamos el valor observado\n",
        "chi_obs = 0\n",
        "\n",
        "for i in range(3):\n",
        "    for j in range(4):\n",
        "        sumando = ((A[i, j] - E[i, j])**2)/E[i, j]\n",
        "        chi_obs += sumando"
      ]
    },
    {
      "cell_type": "code",
      "execution_count": 37,
      "id": "8fef30d5",
      "metadata": {},
      "outputs": [
        {
          "name": "stdout",
          "output_type": "stream",
          "text": [
            "Chi_obs = 1132.1383422674517\n",
            "C_alpha = 12.591587243743977\n"
          ]
        }
      ],
      "source": [
        "#Recodamos que rechazamos H0 si Chi_obs > C_alpha, donde\n",
        "# C_alpha es el cuantil 1-alpha de la Chi\n",
        "\n",
        "alpha = 0.05\n",
        "c_alpha = chi2.ppf(0.95, df = 6, loc=0, scale=1)\n",
        "\n",
        "print(f'Chi_obs = {chi_obs}')\n",
        "print(f'C_alpha = {c_alpha}')"
      ]
    },
    {
      "attachments": {},
      "cell_type": "markdown",
      "id": "4dd5e3dd",
      "metadata": {},
      "source": [
        "Como $\\chi_{obs} > C_{\\alpha}$, entonces rechazamos H0, por lo que descartamos que las variables sean independientes "
      ]
    },
    {
      "cell_type": "code",
      "execution_count": 38,
      "id": "3097e333",
      "metadata": {},
      "outputs": [
        {
          "name": "stdout",
          "output_type": "stream",
          "text": [
            "Coeficiente de continencia de Pearson = 0.9999996099046691\n",
            "Coeficiente T = 462.193542799279\n",
            "Coeficiente de Cramer = 800.5426990586117\n"
          ]
        }
      ],
      "source": [
        "#calculamos las medidas de asociacion \n",
        "coef_contin = np.sqrt((chi_obs**2)/(chi_obs**2 + 1))\n",
        "\n",
        "T = np.sqrt((chi_obs**2)/(2*3))\n",
        "\n",
        "V = np.sqrt((chi_obs**2)/(min(2, 3)))\n",
        "\n",
        "print(f'Coeficiente de continencia de Pearson = {coef_contin}')\n",
        "print(f'Coeficiente T = {T}')\n",
        "print(f'Coeficiente de Cramer = {V}')"
      ]
    },
    {
      "attachments": {},
      "cell_type": "markdown",
      "id": "d9ab31a8",
      "metadata": {},
      "source": [
        "Notamos que el coeficiente de Pearson es prácticamente 1, por lo que podemos decir que las variables están completamente asociadas"
      ]
    },
    {
      "cell_type": "markdown",
      "id": "c0f04bf4",
      "metadata": {
        "id": "c0f04bf4"
      },
      "source": [
        "### Ejercicio 8\n",
        "\n",
        "Simula $10$ observaciones de una distribución normal con media $2$ y varianza $4$. \n",
        "Considere las hipótesis:\n",
        "\n",
        "$$\n",
        "\\begin{align*}\n",
        "    H_0 : F_X(x) &\\text{ es una distribución normal}\\\\\n",
        "        &\\text{v.s} \\\\\n",
        "    H_a : F_X(x) &\\text{ no es una distribución normal}\n",
        "\\end{align*}\n",
        "$$\n",
        "\n",
        "Considera las pruebas de Kolmogorov-Smirnov, Anderson-Darling, Shapiro-Wilks y Cramer Von Mises para probar la hipótesis. ¿Todas las pruebas coinciden en la decisión? ¿Qué concluirías con $\\alpha=0.10$?\n"
      ]
    },
    {
      "cell_type": "code",
      "execution_count": 39,
      "id": "aefbee77",
      "metadata": {
        "id": "aefbee77"
      },
      "outputs": [
        {
          "name": "stdout",
          "output_type": "stream",
          "text": [
            "**************************************************\n",
            "KstestResult(statistic=0.7695854578300151, pvalue=1.0116000410262297e-06)\n",
            "\n",
            "**************************************************\n",
            "AndersonResult(statistic=0.20164141541274994, critical_values=array([0.501, 0.57 , 0.684, 0.798, 0.95 ]), significance_level=array([15. , 10. ,  5. ,  2.5,  1. ]))\n",
            "\n",
            "**************************************************\n",
            "ShapiroResult(statistic=0.9713186621665955, pvalue=0.9027949571609497)\n",
            "\n",
            "**************************************************\n",
            "CramerVonMisesResult(statistic=2.0201604354478717, pvalue=0)\n",
            "\n"
          ]
        }
      ],
      "source": [
        "np.random.seed(17)\n",
        "\n",
        "sample = np.random.normal(2, 2, 10)\n",
        "\n",
        "#Kolmogorov-Smirnov\n",
        "print('*'*50)\n",
        "print(stats.kstest(sample, stats.norm.cdf))\n",
        "print()\n",
        "\n",
        "#Anderson-Darling\n",
        "print('*'*50)\n",
        "print(anderson(sample))\n",
        "print()\n",
        "\n",
        "#Shapiro-Wilks\n",
        "print('*'*50)\n",
        "print(stats.shapiro(sample))\n",
        "print()\n",
        "\n",
        "#Cramer Von Mises\n",
        "print('*'*50)\n",
        "print(stats.cramervonmises(sample, 'norm'))\n",
        "print()\n"
      ]
    },
    {
      "attachments": {},
      "cell_type": "markdown",
      "id": "a98d1d6b",
      "metadata": {},
      "source": [
        "Kolmogorov-Smirnov, Anderson-Darling y Cramer Von Mises arrojan un $p-value$ menor que $0.05$, por lo que concluyen que la muesra proviene de una distribución normal. Por otro lado, Shapiro-Wilks rechaza la hipótesis nula, es decir que no hay evidencia de que provengan de una normal"
      ]
    },
    {
      "cell_type": "markdown",
      "id": "61e45abd",
      "metadata": {
        "id": "61e45abd"
      },
      "source": [
        "### Ejercicio 9\n",
        "\n",
        "Simula $n=10$ observaciones de una distribución t-Student con $3$ grados de libertad. \n",
        "Considere las hipótesis:\n",
        "\n",
        "$$\n",
        "\\begin{align*}\n",
        "    H_0 : F_X(x) &\\text{ es una distribución normal}\\\\\n",
        "        &\\text{v.s} \\\\\n",
        "    H_a : F_X(x) &\\text{ no es una distribución normal}\n",
        "\\end{align*}\n",
        "$$\n",
        "\n",
        "Considera las pruebas de Kolmogorov-Smirnov, Anderson-Darling, Shapiro-Wilks y Cramer Von Mises para probar la hipótesis. ¿Todas las pruebas coinciden en la decisión? ¿Qué concluirías con $\\alpha=0.10$? Si aumentas $n$, ¿qué puedes decir sobre las pruebas? Nota: Prueba varios valores para $n$.\n"
      ]
    },
    {
      "cell_type": "code",
      "execution_count": 40,
      "id": "e96f7127",
      "metadata": {
        "id": "e96f7127"
      },
      "outputs": [
        {
          "name": "stdout",
          "output_type": "stream",
          "text": [
            "**************************************************\n",
            "KstestResult(statistic=0.21879339619662808, pvalue=0.6490628033087398)\n",
            "\n",
            "**************************************************\n",
            "AndersonResult(statistic=0.48376531878295204, critical_values=array([0.501, 0.57 , 0.684, 0.798, 0.95 ]), significance_level=array([15. , 10. ,  5. ,  2.5,  1. ]))\n",
            "\n",
            "**************************************************\n",
            "ShapiroResult(statistic=0.9007436633110046, pvalue=0.2232499122619629)\n",
            "\n",
            "**************************************************\n",
            "CramerVonMisesResult(statistic=0.07044288567462252, pvalue=0.7600680970496935)\n",
            "\n"
          ]
        }
      ],
      "source": [
        "np.random.seed(17)\n",
        "\n",
        "sample = t.rvs(df=3, size=10)\n",
        "\n",
        "#Kolmogorov-Smirnov\n",
        "print('*'*50)\n",
        "print(stats.kstest(sample, stats.norm.cdf))\n",
        "print()\n",
        "\n",
        "#Anderson-Darling\n",
        "print('*'*50)\n",
        "print(anderson(sample))\n",
        "print()\n",
        "\n",
        "#Shapiro-Wilks\n",
        "print('*'*50)\n",
        "print(stats.shapiro(sample))\n",
        "print()\n",
        "\n",
        "#Cramer Von Mises\n",
        "print('*'*50)\n",
        "print(stats.cramervonmises(sample, 'norm'))\n",
        "print()"
      ]
    },
    {
      "attachments": {},
      "cell_type": "markdown",
      "id": "f662e58b",
      "metadata": {},
      "source": [
        "Todas las pruebas rechazaron la hipótesis nula a excepción de la estadística Anderson-Darling."
      ]
    },
    {
      "cell_type": "markdown",
      "id": "226c8e24",
      "metadata": {
        "id": "226c8e24"
      },
      "source": [
        "### Ejercicio 10\n",
        "\n",
        "Repite los ejercicios 8 y 9 para muestras de tamaño $100$."
      ]
    },
    {
      "cell_type": "code",
      "execution_count": 41,
      "id": "ec72c9d6",
      "metadata": {
        "id": "ec72c9d6"
      },
      "outputs": [
        {
          "name": "stdout",
          "output_type": "stream",
          "text": [
            "**************************************************\n",
            "KstestResult(statistic=0.5831856900627493, pvalue=7.633447361061642e-33)\n",
            "\n",
            "**************************************************\n",
            "AndersonResult(statistic=0.5565631596547576, critical_values=array([0.555, 0.632, 0.759, 0.885, 1.053]), significance_level=array([15. , 10. ,  5. ,  2.5,  1. ]))\n",
            "\n",
            "**************************************************\n",
            "ShapiroResult(statistic=0.9805631637573242, pvalue=0.1470283567905426)\n",
            "\n",
            "**************************************************\n",
            "CramerVonMisesResult(statistic=14.509332176147337, pvalue=1.046982167629551e-09)\n",
            "\n"
          ]
        }
      ],
      "source": [
        "np.random.seed(17)\n",
        "\n",
        "sample = np.random.normal(2, 2, 100)\n",
        "\n",
        "#Kolmogorov-Smirnov\n",
        "print('*'*50)\n",
        "print(stats.kstest(sample, stats.norm.cdf))\n",
        "print()\n",
        "\n",
        "#Anderson-Darling\n",
        "print('*'*50)\n",
        "print(anderson(sample))\n",
        "print()\n",
        "\n",
        "#Shapiro-Wilks\n",
        "print('*'*50)\n",
        "print(stats.shapiro(sample))\n",
        "print()\n",
        "\n",
        "#Cramer Von Mises\n",
        "print('*'*50)\n",
        "print(stats.cramervonmises(sample, 'norm'))\n",
        "print()\n"
      ]
    },
    {
      "attachments": {},
      "cell_type": "markdown",
      "id": "fa485029",
      "metadata": {},
      "source": [
        "Al igual que con la muestra de tamaño $10$, la unica prueba que rechaza que vengan de una distribución normal es Shapiro "
      ]
    },
    {
      "cell_type": "code",
      "execution_count": 42,
      "id": "daba6d35",
      "metadata": {},
      "outputs": [
        {
          "name": "stdout",
          "output_type": "stream",
          "text": [
            "**************************************************\n",
            "KstestResult(statistic=0.07495617689731474, pvalue=0.6010846011324368)\n",
            "\n",
            "**************************************************\n",
            "AndersonResult(statistic=3.161830842029886, critical_values=array([0.555, 0.632, 0.759, 0.885, 1.053]), significance_level=array([15. , 10. ,  5. ,  2.5,  1. ]))\n",
            "\n",
            "**************************************************\n",
            "ShapiroResult(statistic=0.8497542142868042, pvalue=1.1613597195037073e-08)\n",
            "\n",
            "**************************************************\n",
            "CramerVonMisesResult(statistic=0.13872815473139488, pvalue=0.4264181630327024)\n",
            "\n"
          ]
        }
      ],
      "source": [
        "#ahora hacemos lo analogo pero con la t-student\n",
        "np.random.seed(17)\n",
        "\n",
        "sample = t.rvs(df=3, size=100)\n",
        "\n",
        "#Kolmogorov-Smirnov\n",
        "print('*'*50)\n",
        "print(stats.kstest(sample, stats.norm.cdf))\n",
        "print()\n",
        "\n",
        "#Anderson-Darling\n",
        "print('*'*50)\n",
        "print(anderson(sample))\n",
        "print()\n",
        "\n",
        "#Shapiro-Wilks\n",
        "print('*'*50)\n",
        "print(stats.shapiro(sample))\n",
        "print()\n",
        "\n",
        "#Cramer Von Mises\n",
        "print('*'*50)\n",
        "print(stats.cramervonmises(sample, 'norm'))\n",
        "print()"
      ]
    },
    {
      "attachments": {},
      "cell_type": "markdown",
      "id": "cf0ad730",
      "metadata": {},
      "source": [
        "De igual manera, Anderson-Darling fue la única estadística que aceptó que sí provienen de una distribución normal"
      ]
    }
  ],
  "metadata": {
    "colab": {
      "collapsed_sections": [
        "80db34a6",
        "4e3bfb64",
        "649d1a79",
        "9a0d1f51",
        "c022ef7b",
        "c0f04bf4",
        "61e45abd",
        "226c8e24"
      ],
      "provenance": []
    },
    "kernelspec": {
      "display_name": "Python 3",
      "language": "python",
      "name": "python3"
    },
    "language_info": {
      "codemirror_mode": {
        "name": "ipython",
        "version": 3
      },
      "file_extension": ".py",
      "mimetype": "text/x-python",
      "name": "python",
      "nbconvert_exporter": "python",
      "pygments_lexer": "ipython3",
      "version": "3.10.2"
    },
    "vscode": {
      "interpreter": {
        "hash": "26de051ba29f2982a8de78e945f0abaf191376122a1563185a90213a26c5da77"
      }
    }
  },
  "nbformat": 4,
  "nbformat_minor": 5
}
