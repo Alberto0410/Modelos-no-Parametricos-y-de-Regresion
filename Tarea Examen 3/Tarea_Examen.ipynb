{
  "nbformat": 4,
  "nbformat_minor": 0,
  "metadata": {
    "colab": {
      "provenance": []
    },
    "kernelspec": {
      "name": "python3",
      "display_name": "Python 3"
    },
    "language_info": {
      "name": "python"
    }
  },
  "cells": [
    {
      "cell_type": "code",
      "execution_count": null,
      "metadata": {
        "id": "Xg8SMYxTQVuU"
      },
      "outputs": [],
      "source": [
        "import pandas as pd\n",
        "import numpy as np\n",
        "import matplotlib.pyplot as plt\n",
        "import statsmodels.api as sm\n",
        "from statsmodels.graphics.tsaplots import plot_acf\n",
        "from scipy import stats\n",
        "import pylab\n",
        "from matplotlib import cm"
      ]
    },
    {
      "cell_type": "code",
      "source": [
        "mic = pd.read_csv('mic.txt', sep = ' ').drop(columns = [\"'n'\"])\n",
        "mic.head()"
      ],
      "metadata": {
        "colab": {
          "base_uri": "https://localhost:8080/",
          "height": 206
        },
        "id": "0quNQvyLQl5W",
        "outputId": "1a102f63-23ef-47c0-edc9-e12b39ce93d8"
      },
      "execution_count": null,
      "outputs": [
        {
          "output_type": "execute_result",
          "data": {
            "text/plain": [
              "   'y'  'x1'  'x2'  'x3'\n",
              "0  2.1    20   1.0  20.0\n",
              "1  2.0    21   1.0  21.0\n",
              "2  2.4    27   1.0  27.0\n",
              "3  2.0    26   1.8  46.8\n",
              "4  2.1    27   2.0  54.0"
            ],
            "text/html": [
              "\n",
              "  <div id=\"df-271902bf-e226-4cae-8520-f11ca1898f64\">\n",
              "    <div class=\"colab-df-container\">\n",
              "      <div>\n",
              "<style scoped>\n",
              "    .dataframe tbody tr th:only-of-type {\n",
              "        vertical-align: middle;\n",
              "    }\n",
              "\n",
              "    .dataframe tbody tr th {\n",
              "        vertical-align: top;\n",
              "    }\n",
              "\n",
              "    .dataframe thead th {\n",
              "        text-align: right;\n",
              "    }\n",
              "</style>\n",
              "<table border=\"1\" class=\"dataframe\">\n",
              "  <thead>\n",
              "    <tr style=\"text-align: right;\">\n",
              "      <th></th>\n",
              "      <th>'y'</th>\n",
              "      <th>'x1'</th>\n",
              "      <th>'x2'</th>\n",
              "      <th>'x3'</th>\n",
              "    </tr>\n",
              "  </thead>\n",
              "  <tbody>\n",
              "    <tr>\n",
              "      <th>0</th>\n",
              "      <td>2.1</td>\n",
              "      <td>20</td>\n",
              "      <td>1.0</td>\n",
              "      <td>20.0</td>\n",
              "    </tr>\n",
              "    <tr>\n",
              "      <th>1</th>\n",
              "      <td>2.0</td>\n",
              "      <td>21</td>\n",
              "      <td>1.0</td>\n",
              "      <td>21.0</td>\n",
              "    </tr>\n",
              "    <tr>\n",
              "      <th>2</th>\n",
              "      <td>2.4</td>\n",
              "      <td>27</td>\n",
              "      <td>1.0</td>\n",
              "      <td>27.0</td>\n",
              "    </tr>\n",
              "    <tr>\n",
              "      <th>3</th>\n",
              "      <td>2.0</td>\n",
              "      <td>26</td>\n",
              "      <td>1.8</td>\n",
              "      <td>46.8</td>\n",
              "    </tr>\n",
              "    <tr>\n",
              "      <th>4</th>\n",
              "      <td>2.1</td>\n",
              "      <td>27</td>\n",
              "      <td>2.0</td>\n",
              "      <td>54.0</td>\n",
              "    </tr>\n",
              "  </tbody>\n",
              "</table>\n",
              "</div>\n",
              "      <button class=\"colab-df-convert\" onclick=\"convertToInteractive('df-271902bf-e226-4cae-8520-f11ca1898f64')\"\n",
              "              title=\"Convert this dataframe to an interactive table.\"\n",
              "              style=\"display:none;\">\n",
              "        \n",
              "  <svg xmlns=\"http://www.w3.org/2000/svg\" height=\"24px\"viewBox=\"0 0 24 24\"\n",
              "       width=\"24px\">\n",
              "    <path d=\"M0 0h24v24H0V0z\" fill=\"none\"/>\n",
              "    <path d=\"M18.56 5.44l.94 2.06.94-2.06 2.06-.94-2.06-.94-.94-2.06-.94 2.06-2.06.94zm-11 1L8.5 8.5l.94-2.06 2.06-.94-2.06-.94L8.5 2.5l-.94 2.06-2.06.94zm10 10l.94 2.06.94-2.06 2.06-.94-2.06-.94-.94-2.06-.94 2.06-2.06.94z\"/><path d=\"M17.41 7.96l-1.37-1.37c-.4-.4-.92-.59-1.43-.59-.52 0-1.04.2-1.43.59L10.3 9.45l-7.72 7.72c-.78.78-.78 2.05 0 2.83L4 21.41c.39.39.9.59 1.41.59.51 0 1.02-.2 1.41-.59l7.78-7.78 2.81-2.81c.8-.78.8-2.07 0-2.86zM5.41 20L4 18.59l7.72-7.72 1.47 1.35L5.41 20z\"/>\n",
              "  </svg>\n",
              "      </button>\n",
              "      \n",
              "  <style>\n",
              "    .colab-df-container {\n",
              "      display:flex;\n",
              "      flex-wrap:wrap;\n",
              "      gap: 12px;\n",
              "    }\n",
              "\n",
              "    .colab-df-convert {\n",
              "      background-color: #E8F0FE;\n",
              "      border: none;\n",
              "      border-radius: 50%;\n",
              "      cursor: pointer;\n",
              "      display: none;\n",
              "      fill: #1967D2;\n",
              "      height: 32px;\n",
              "      padding: 0 0 0 0;\n",
              "      width: 32px;\n",
              "    }\n",
              "\n",
              "    .colab-df-convert:hover {\n",
              "      background-color: #E2EBFA;\n",
              "      box-shadow: 0px 1px 2px rgba(60, 64, 67, 0.3), 0px 1px 3px 1px rgba(60, 64, 67, 0.15);\n",
              "      fill: #174EA6;\n",
              "    }\n",
              "\n",
              "    [theme=dark] .colab-df-convert {\n",
              "      background-color: #3B4455;\n",
              "      fill: #D2E3FC;\n",
              "    }\n",
              "\n",
              "    [theme=dark] .colab-df-convert:hover {\n",
              "      background-color: #434B5C;\n",
              "      box-shadow: 0px 1px 3px 1px rgba(0, 0, 0, 0.15);\n",
              "      filter: drop-shadow(0px 1px 2px rgba(0, 0, 0, 0.3));\n",
              "      fill: #FFFFFF;\n",
              "    }\n",
              "  </style>\n",
              "\n",
              "      <script>\n",
              "        const buttonEl =\n",
              "          document.querySelector('#df-271902bf-e226-4cae-8520-f11ca1898f64 button.colab-df-convert');\n",
              "        buttonEl.style.display =\n",
              "          google.colab.kernel.accessAllowed ? 'block' : 'none';\n",
              "\n",
              "        async function convertToInteractive(key) {\n",
              "          const element = document.querySelector('#df-271902bf-e226-4cae-8520-f11ca1898f64');\n",
              "          const dataTable =\n",
              "            await google.colab.kernel.invokeFunction('convertToInteractive',\n",
              "                                                     [key], {});\n",
              "          if (!dataTable) return;\n",
              "\n",
              "          const docLinkHtml = 'Like what you see? Visit the ' +\n",
              "            '<a target=\"_blank\" href=https://colab.research.google.com/notebooks/data_table.ipynb>data table notebook</a>'\n",
              "            + ' to learn more about interactive tables.';\n",
              "          element.innerHTML = '';\n",
              "          dataTable['output_type'] = 'display_data';\n",
              "          await google.colab.output.renderOutput(dataTable, element);\n",
              "          const docLink = document.createElement('div');\n",
              "          docLink.innerHTML = docLinkHtml;\n",
              "          element.appendChild(docLink);\n",
              "        }\n",
              "      </script>\n",
              "    </div>\n",
              "  </div>\n",
              "  "
            ]
          },
          "metadata": {},
          "execution_count": 2
        }
      ]
    },
    {
      "cell_type": "code",
      "source": [
        "mic.rename(columns={\"'y'\": \"log(cont)\", \"'x1'\": \"temperatura\", \"'x2'\": \"medio\", \"'x3'\" : \"x1x2\"}, inplace = True)\n",
        "mic.head()"
      ],
      "metadata": {
        "colab": {
          "base_uri": "https://localhost:8080/",
          "height": 206
        },
        "id": "uepmnA5GVzcX",
        "outputId": "04a0c1c9-04e1-4fc8-e39f-e0b10c20b59a"
      },
      "execution_count": null,
      "outputs": [
        {
          "output_type": "execute_result",
          "data": {
            "text/plain": [
              "   log(cont)  temperatura  medio  x1x2\n",
              "0        2.1           20    1.0  20.0\n",
              "1        2.0           21    1.0  21.0\n",
              "2        2.4           27    1.0  27.0\n",
              "3        2.0           26    1.8  46.8\n",
              "4        2.1           27    2.0  54.0"
            ],
            "text/html": [
              "\n",
              "  <div id=\"df-04376277-df46-4e9e-8bb8-471ce5061430\">\n",
              "    <div class=\"colab-df-container\">\n",
              "      <div>\n",
              "<style scoped>\n",
              "    .dataframe tbody tr th:only-of-type {\n",
              "        vertical-align: middle;\n",
              "    }\n",
              "\n",
              "    .dataframe tbody tr th {\n",
              "        vertical-align: top;\n",
              "    }\n",
              "\n",
              "    .dataframe thead th {\n",
              "        text-align: right;\n",
              "    }\n",
              "</style>\n",
              "<table border=\"1\" class=\"dataframe\">\n",
              "  <thead>\n",
              "    <tr style=\"text-align: right;\">\n",
              "      <th></th>\n",
              "      <th>log(cont)</th>\n",
              "      <th>temperatura</th>\n",
              "      <th>medio</th>\n",
              "      <th>x1x2</th>\n",
              "    </tr>\n",
              "  </thead>\n",
              "  <tbody>\n",
              "    <tr>\n",
              "      <th>0</th>\n",
              "      <td>2.1</td>\n",
              "      <td>20</td>\n",
              "      <td>1.0</td>\n",
              "      <td>20.0</td>\n",
              "    </tr>\n",
              "    <tr>\n",
              "      <th>1</th>\n",
              "      <td>2.0</td>\n",
              "      <td>21</td>\n",
              "      <td>1.0</td>\n",
              "      <td>21.0</td>\n",
              "    </tr>\n",
              "    <tr>\n",
              "      <th>2</th>\n",
              "      <td>2.4</td>\n",
              "      <td>27</td>\n",
              "      <td>1.0</td>\n",
              "      <td>27.0</td>\n",
              "    </tr>\n",
              "    <tr>\n",
              "      <th>3</th>\n",
              "      <td>2.0</td>\n",
              "      <td>26</td>\n",
              "      <td>1.8</td>\n",
              "      <td>46.8</td>\n",
              "    </tr>\n",
              "    <tr>\n",
              "      <th>4</th>\n",
              "      <td>2.1</td>\n",
              "      <td>27</td>\n",
              "      <td>2.0</td>\n",
              "      <td>54.0</td>\n",
              "    </tr>\n",
              "  </tbody>\n",
              "</table>\n",
              "</div>\n",
              "      <button class=\"colab-df-convert\" onclick=\"convertToInteractive('df-04376277-df46-4e9e-8bb8-471ce5061430')\"\n",
              "              title=\"Convert this dataframe to an interactive table.\"\n",
              "              style=\"display:none;\">\n",
              "        \n",
              "  <svg xmlns=\"http://www.w3.org/2000/svg\" height=\"24px\"viewBox=\"0 0 24 24\"\n",
              "       width=\"24px\">\n",
              "    <path d=\"M0 0h24v24H0V0z\" fill=\"none\"/>\n",
              "    <path d=\"M18.56 5.44l.94 2.06.94-2.06 2.06-.94-2.06-.94-.94-2.06-.94 2.06-2.06.94zm-11 1L8.5 8.5l.94-2.06 2.06-.94-2.06-.94L8.5 2.5l-.94 2.06-2.06.94zm10 10l.94 2.06.94-2.06 2.06-.94-2.06-.94-.94-2.06-.94 2.06-2.06.94z\"/><path d=\"M17.41 7.96l-1.37-1.37c-.4-.4-.92-.59-1.43-.59-.52 0-1.04.2-1.43.59L10.3 9.45l-7.72 7.72c-.78.78-.78 2.05 0 2.83L4 21.41c.39.39.9.59 1.41.59.51 0 1.02-.2 1.41-.59l7.78-7.78 2.81-2.81c.8-.78.8-2.07 0-2.86zM5.41 20L4 18.59l7.72-7.72 1.47 1.35L5.41 20z\"/>\n",
              "  </svg>\n",
              "      </button>\n",
              "      \n",
              "  <style>\n",
              "    .colab-df-container {\n",
              "      display:flex;\n",
              "      flex-wrap:wrap;\n",
              "      gap: 12px;\n",
              "    }\n",
              "\n",
              "    .colab-df-convert {\n",
              "      background-color: #E8F0FE;\n",
              "      border: none;\n",
              "      border-radius: 50%;\n",
              "      cursor: pointer;\n",
              "      display: none;\n",
              "      fill: #1967D2;\n",
              "      height: 32px;\n",
              "      padding: 0 0 0 0;\n",
              "      width: 32px;\n",
              "    }\n",
              "\n",
              "    .colab-df-convert:hover {\n",
              "      background-color: #E2EBFA;\n",
              "      box-shadow: 0px 1px 2px rgba(60, 64, 67, 0.3), 0px 1px 3px 1px rgba(60, 64, 67, 0.15);\n",
              "      fill: #174EA6;\n",
              "    }\n",
              "\n",
              "    [theme=dark] .colab-df-convert {\n",
              "      background-color: #3B4455;\n",
              "      fill: #D2E3FC;\n",
              "    }\n",
              "\n",
              "    [theme=dark] .colab-df-convert:hover {\n",
              "      background-color: #434B5C;\n",
              "      box-shadow: 0px 1px 3px 1px rgba(0, 0, 0, 0.15);\n",
              "      filter: drop-shadow(0px 1px 2px rgba(0, 0, 0, 0.3));\n",
              "      fill: #FFFFFF;\n",
              "    }\n",
              "  </style>\n",
              "\n",
              "      <script>\n",
              "        const buttonEl =\n",
              "          document.querySelector('#df-04376277-df46-4e9e-8bb8-471ce5061430 button.colab-df-convert');\n",
              "        buttonEl.style.display =\n",
              "          google.colab.kernel.accessAllowed ? 'block' : 'none';\n",
              "\n",
              "        async function convertToInteractive(key) {\n",
              "          const element = document.querySelector('#df-04376277-df46-4e9e-8bb8-471ce5061430');\n",
              "          const dataTable =\n",
              "            await google.colab.kernel.invokeFunction('convertToInteractive',\n",
              "                                                     [key], {});\n",
              "          if (!dataTable) return;\n",
              "\n",
              "          const docLinkHtml = 'Like what you see? Visit the ' +\n",
              "            '<a target=\"_blank\" href=https://colab.research.google.com/notebooks/data_table.ipynb>data table notebook</a>'\n",
              "            + ' to learn more about interactive tables.';\n",
              "          element.innerHTML = '';\n",
              "          dataTable['output_type'] = 'display_data';\n",
              "          await google.colab.output.renderOutput(dataTable, element);\n",
              "          const docLink = document.createElement('div');\n",
              "          docLink.innerHTML = docLinkHtml;\n",
              "          element.appendChild(docLink);\n",
              "        }\n",
              "      </script>\n",
              "    </div>\n",
              "  </div>\n",
              "  "
            ]
          },
          "metadata": {},
          "execution_count": 3
        }
      ]
    },
    {
      "cell_type": "code",
      "source": [
        "X = mic[['temperatura', 'medio', 'x1x2']]\n",
        "y = mic['log(cont)']\n",
        "\n",
        "X_cons = sm.add_constant(X)"
      ],
      "metadata": {
        "id": "EqpmOA6vd1_1"
      },
      "execution_count": null,
      "outputs": []
    },
    {
      "cell_type": "code",
      "source": [
        "lin_reg = sm.GLS(y, X_cons).fit()\n",
        "\n",
        "lin_reg.summary()"
      ],
      "metadata": {
        "colab": {
          "base_uri": "https://localhost:8080/",
          "height": 529
        },
        "id": "o-n_0oNyiKv9",
        "outputId": "369c31b8-55b8-440d-9f43-1dcafc4bc925"
      },
      "execution_count": null,
      "outputs": [
        {
          "output_type": "stream",
          "name": "stderr",
          "text": [
            "/usr/local/lib/python3.10/dist-packages/scipy/stats/_stats_py.py:1736: UserWarning: kurtosistest only valid for n>=20 ... continuing anyway, n=15\n",
            "  warnings.warn(\"kurtosistest only valid for n>=20 ... continuing \"\n"
          ]
        },
        {
          "output_type": "execute_result",
          "data": {
            "text/plain": [
              "<class 'statsmodels.iolib.summary.Summary'>\n",
              "\"\"\"\n",
              "                            GLS Regression Results                            \n",
              "==============================================================================\n",
              "Dep. Variable:              log(cont)   R-squared:                       0.891\n",
              "Model:                            GLS   Adj. R-squared:                  0.861\n",
              "Method:                 Least Squares   F-statistic:                     29.89\n",
              "Date:                Sun, 14 May 2023   Prob (F-statistic):           1.38e-05\n",
              "Time:                        04:23:29   Log-Likelihood:                -11.169\n",
              "No. Observations:                  15   AIC:                             30.34\n",
              "Df Residuals:                      11   BIC:                             33.17\n",
              "Df Model:                           3                                         \n",
              "Covariance Type:            nonrobust                                         \n",
              "===============================================================================\n",
              "                  coef    std err          t      P>|t|      [0.025      0.975]\n",
              "-------------------------------------------------------------------------------\n",
              "const           2.5514      1.210      2.109      0.059      -0.111       5.214\n",
              "temperatura    -0.0551      0.037     -1.492      0.164      -0.136       0.026\n",
              "medio          -0.0309      0.618     -0.050      0.961      -1.391       1.329\n",
              "x1x2            0.0369      0.018      2.069      0.063      -0.002       0.076\n",
              "==============================================================================\n",
              "Omnibus:                        0.880   Durbin-Watson:                   1.558\n",
              "Prob(Omnibus):                  0.644   Jarque-Bera (JB):                0.733\n",
              "Skew:                          -0.231   Prob(JB):                        0.693\n",
              "Kurtosis:                       2.020   Cond. No.                         686.\n",
              "==============================================================================\n",
              "\n",
              "Notes:\n",
              "[1] Standard Errors assume that the covariance matrix of the errors is correctly specified.\n",
              "\"\"\""
            ],
            "text/html": [
              "<table class=\"simpletable\">\n",
              "<caption>GLS Regression Results</caption>\n",
              "<tr>\n",
              "  <th>Dep. Variable:</th>        <td>log(cont)</td>    <th>  R-squared:         </th> <td>   0.891</td>\n",
              "</tr>\n",
              "<tr>\n",
              "  <th>Model:</th>                   <td>GLS</td>       <th>  Adj. R-squared:    </th> <td>   0.861</td>\n",
              "</tr>\n",
              "<tr>\n",
              "  <th>Method:</th>             <td>Least Squares</td>  <th>  F-statistic:       </th> <td>   29.89</td>\n",
              "</tr>\n",
              "<tr>\n",
              "  <th>Date:</th>             <td>Sun, 14 May 2023</td> <th>  Prob (F-statistic):</th> <td>1.38e-05</td>\n",
              "</tr>\n",
              "<tr>\n",
              "  <th>Time:</th>                 <td>04:23:29</td>     <th>  Log-Likelihood:    </th> <td> -11.169</td>\n",
              "</tr>\n",
              "<tr>\n",
              "  <th>No. Observations:</th>      <td>    15</td>      <th>  AIC:               </th> <td>   30.34</td>\n",
              "</tr>\n",
              "<tr>\n",
              "  <th>Df Residuals:</th>          <td>    11</td>      <th>  BIC:               </th> <td>   33.17</td>\n",
              "</tr>\n",
              "<tr>\n",
              "  <th>Df Model:</th>              <td>     3</td>      <th>                     </th>     <td> </td>   \n",
              "</tr>\n",
              "<tr>\n",
              "  <th>Covariance Type:</th>      <td>nonrobust</td>    <th>                     </th>     <td> </td>   \n",
              "</tr>\n",
              "</table>\n",
              "<table class=\"simpletable\">\n",
              "<tr>\n",
              "       <td></td>          <th>coef</th>     <th>std err</th>      <th>t</th>      <th>P>|t|</th>  <th>[0.025</th>    <th>0.975]</th>  \n",
              "</tr>\n",
              "<tr>\n",
              "  <th>const</th>       <td>    2.5514</td> <td>    1.210</td> <td>    2.109</td> <td> 0.059</td> <td>   -0.111</td> <td>    5.214</td>\n",
              "</tr>\n",
              "<tr>\n",
              "  <th>temperatura</th> <td>   -0.0551</td> <td>    0.037</td> <td>   -1.492</td> <td> 0.164</td> <td>   -0.136</td> <td>    0.026</td>\n",
              "</tr>\n",
              "<tr>\n",
              "  <th>medio</th>       <td>   -0.0309</td> <td>    0.618</td> <td>   -0.050</td> <td> 0.961</td> <td>   -1.391</td> <td>    1.329</td>\n",
              "</tr>\n",
              "<tr>\n",
              "  <th>x1x2</th>        <td>    0.0369</td> <td>    0.018</td> <td>    2.069</td> <td> 0.063</td> <td>   -0.002</td> <td>    0.076</td>\n",
              "</tr>\n",
              "</table>\n",
              "<table class=\"simpletable\">\n",
              "<tr>\n",
              "  <th>Omnibus:</th>       <td> 0.880</td> <th>  Durbin-Watson:     </th> <td>   1.558</td>\n",
              "</tr>\n",
              "<tr>\n",
              "  <th>Prob(Omnibus):</th> <td> 0.644</td> <th>  Jarque-Bera (JB):  </th> <td>   0.733</td>\n",
              "</tr>\n",
              "<tr>\n",
              "  <th>Skew:</th>          <td>-0.231</td> <th>  Prob(JB):          </th> <td>   0.693</td>\n",
              "</tr>\n",
              "<tr>\n",
              "  <th>Kurtosis:</th>      <td> 2.020</td> <th>  Cond. No.          </th> <td>    686.</td>\n",
              "</tr>\n",
              "</table><br/><br/>Notes:<br/>[1] Standard Errors assume that the covariance matrix of the errors is correctly specified."
            ]
          },
          "metadata": {},
          "execution_count": 5
        }
      ]
    },
    {
      "cell_type": "markdown",
      "source": [
        "Del resumen anterior podemos ver que el valor de la $R^2$ ajustada es $0.86$, el cual es un valor decente. Cabe destacar que estamos considerando la $R^2# ajustada y no la normal debido a que estamos usando regresión multiple por lo que queremos tomar en cuenta el número de regresores que estamos tomando, así como el número de observaciones.\n",
        "\n",
        "\n",
        "Por otro lado, del $p-value$ de la estadística $F$ es menor que $0.05$ por lo que afirmarmos que existe al menos una variable significativa.\n",
        "\n",
        "Calculamos el error estandar\n",
        "\n",
        "$$SE = \\sqrt{\\frac{SSR}{n-k-1}}$$"
      ],
      "metadata": {
        "id": "DI571yqqHahZ"
      }
    },
    {
      "cell_type": "code",
      "source": [
        "SSR = sum(lin_reg.resid**2)\n",
        "\n",
        "SE = np.sqrt(SSR / (mic.shape[0] - mic.shape[1] - 1))\n",
        "\n",
        "print(f'SE = {SE}')\n"
      ],
      "metadata": {
        "colab": {
          "base_uri": "https://localhost:8080/"
        },
        "id": "FAj56nhoiffT",
        "outputId": "52e14951-40a4-4606-a707-482b2198e548"
      },
      "execution_count": null,
      "outputs": [
        {
          "output_type": "stream",
          "name": "stdout",
          "text": [
            "SE = 0.6239842393442157\n"
          ]
        }
      ]
    },
    {
      "cell_type": "markdown",
      "source": [
        "Como podemos ver, al distancia entre los datos observados y los estimados es pequeña.\n",
        "\n",
        "A primera vista parece un buen modelo. Vamos a proceder con la verificación de los coeficientes.\n",
        "\n",
        "#Verificación de los Coeficientes\n"
      ],
      "metadata": {
        "id": "d0xulOqTJf5n"
      }
    },
    {
      "cell_type": "code",
      "source": [
        "#precision de los coeficientes\n",
        "lin_reg.bse"
      ],
      "metadata": {
        "colab": {
          "base_uri": "https://localhost:8080/"
        },
        "id": "g98MXJBXLxjD",
        "outputId": "856e3bd2-1e32-4863-fc47-a33dfaeb9f44"
      },
      "execution_count": null,
      "outputs": [
        {
          "output_type": "execute_result",
          "data": {
            "text/plain": [
              "const          1.209769\n",
              "temperatura    0.036940\n",
              "medio          0.617877\n",
              "x1x2           0.017828\n",
              "dtype: float64"
            ]
          },
          "metadata": {},
          "execution_count": 7
        }
      ]
    },
    {
      "cell_type": "code",
      "source": [
        "#prueba T para cada variable\n",
        "lin_reg.pvalues"
      ],
      "metadata": {
        "colab": {
          "base_uri": "https://localhost:8080/"
        },
        "id": "zm2bauAeMbFL",
        "outputId": "75a8fe36-d1b8-4414-f8ec-867c8eb8d7bc"
      },
      "execution_count": null,
      "outputs": [
        {
          "output_type": "execute_result",
          "data": {
            "text/plain": [
              "const          0.058681\n",
              "temperatura    0.163928\n",
              "medio          0.960981\n",
              "x1x2           0.062884\n",
              "dtype: float64"
            ]
          },
          "metadata": {},
          "execution_count": 8
        }
      ]
    },
    {
      "cell_type": "markdown",
      "source": [
        "Observamos que la variable menos significativa es $x_1x_2$, por lo que una idea es crear otro modelo eliminando dicha variable y ver su desempeño.\n",
        "\n",
        "\n",
        "Veamos los intervalos del $95\\%$ confianza de los coeficientes"
      ],
      "metadata": {
        "id": "5ygyanWWNSAk"
      }
    },
    {
      "cell_type": "code",
      "source": [
        "lin_reg.conf_int()"
      ],
      "metadata": {
        "colab": {
          "base_uri": "https://localhost:8080/",
          "height": 175
        },
        "id": "lgNBZ8zkNu-t",
        "outputId": "951237a5-1420-4f86-b04d-bb0819ee43d4"
      },
      "execution_count": null,
      "outputs": [
        {
          "output_type": "execute_result",
          "data": {
            "text/plain": [
              "                    0         1\n",
              "const       -0.111308  5.214060\n",
              "temperatura -0.136403  0.026207\n",
              "medio       -1.390861  1.329013\n",
              "x1x2        -0.002354  0.076126"
            ],
            "text/html": [
              "\n",
              "  <div id=\"df-31cd7781-8039-4127-9f13-2d1299f85544\">\n",
              "    <div class=\"colab-df-container\">\n",
              "      <div>\n",
              "<style scoped>\n",
              "    .dataframe tbody tr th:only-of-type {\n",
              "        vertical-align: middle;\n",
              "    }\n",
              "\n",
              "    .dataframe tbody tr th {\n",
              "        vertical-align: top;\n",
              "    }\n",
              "\n",
              "    .dataframe thead th {\n",
              "        text-align: right;\n",
              "    }\n",
              "</style>\n",
              "<table border=\"1\" class=\"dataframe\">\n",
              "  <thead>\n",
              "    <tr style=\"text-align: right;\">\n",
              "      <th></th>\n",
              "      <th>0</th>\n",
              "      <th>1</th>\n",
              "    </tr>\n",
              "  </thead>\n",
              "  <tbody>\n",
              "    <tr>\n",
              "      <th>const</th>\n",
              "      <td>-0.111308</td>\n",
              "      <td>5.214060</td>\n",
              "    </tr>\n",
              "    <tr>\n",
              "      <th>temperatura</th>\n",
              "      <td>-0.136403</td>\n",
              "      <td>0.026207</td>\n",
              "    </tr>\n",
              "    <tr>\n",
              "      <th>medio</th>\n",
              "      <td>-1.390861</td>\n",
              "      <td>1.329013</td>\n",
              "    </tr>\n",
              "    <tr>\n",
              "      <th>x1x2</th>\n",
              "      <td>-0.002354</td>\n",
              "      <td>0.076126</td>\n",
              "    </tr>\n",
              "  </tbody>\n",
              "</table>\n",
              "</div>\n",
              "      <button class=\"colab-df-convert\" onclick=\"convertToInteractive('df-31cd7781-8039-4127-9f13-2d1299f85544')\"\n",
              "              title=\"Convert this dataframe to an interactive table.\"\n",
              "              style=\"display:none;\">\n",
              "        \n",
              "  <svg xmlns=\"http://www.w3.org/2000/svg\" height=\"24px\"viewBox=\"0 0 24 24\"\n",
              "       width=\"24px\">\n",
              "    <path d=\"M0 0h24v24H0V0z\" fill=\"none\"/>\n",
              "    <path d=\"M18.56 5.44l.94 2.06.94-2.06 2.06-.94-2.06-.94-.94-2.06-.94 2.06-2.06.94zm-11 1L8.5 8.5l.94-2.06 2.06-.94-2.06-.94L8.5 2.5l-.94 2.06-2.06.94zm10 10l.94 2.06.94-2.06 2.06-.94-2.06-.94-.94-2.06-.94 2.06-2.06.94z\"/><path d=\"M17.41 7.96l-1.37-1.37c-.4-.4-.92-.59-1.43-.59-.52 0-1.04.2-1.43.59L10.3 9.45l-7.72 7.72c-.78.78-.78 2.05 0 2.83L4 21.41c.39.39.9.59 1.41.59.51 0 1.02-.2 1.41-.59l7.78-7.78 2.81-2.81c.8-.78.8-2.07 0-2.86zM5.41 20L4 18.59l7.72-7.72 1.47 1.35L5.41 20z\"/>\n",
              "  </svg>\n",
              "      </button>\n",
              "      \n",
              "  <style>\n",
              "    .colab-df-container {\n",
              "      display:flex;\n",
              "      flex-wrap:wrap;\n",
              "      gap: 12px;\n",
              "    }\n",
              "\n",
              "    .colab-df-convert {\n",
              "      background-color: #E8F0FE;\n",
              "      border: none;\n",
              "      border-radius: 50%;\n",
              "      cursor: pointer;\n",
              "      display: none;\n",
              "      fill: #1967D2;\n",
              "      height: 32px;\n",
              "      padding: 0 0 0 0;\n",
              "      width: 32px;\n",
              "    }\n",
              "\n",
              "    .colab-df-convert:hover {\n",
              "      background-color: #E2EBFA;\n",
              "      box-shadow: 0px 1px 2px rgba(60, 64, 67, 0.3), 0px 1px 3px 1px rgba(60, 64, 67, 0.15);\n",
              "      fill: #174EA6;\n",
              "    }\n",
              "\n",
              "    [theme=dark] .colab-df-convert {\n",
              "      background-color: #3B4455;\n",
              "      fill: #D2E3FC;\n",
              "    }\n",
              "\n",
              "    [theme=dark] .colab-df-convert:hover {\n",
              "      background-color: #434B5C;\n",
              "      box-shadow: 0px 1px 3px 1px rgba(0, 0, 0, 0.15);\n",
              "      filter: drop-shadow(0px 1px 2px rgba(0, 0, 0, 0.3));\n",
              "      fill: #FFFFFF;\n",
              "    }\n",
              "  </style>\n",
              "\n",
              "      <script>\n",
              "        const buttonEl =\n",
              "          document.querySelector('#df-31cd7781-8039-4127-9f13-2d1299f85544 button.colab-df-convert');\n",
              "        buttonEl.style.display =\n",
              "          google.colab.kernel.accessAllowed ? 'block' : 'none';\n",
              "\n",
              "        async function convertToInteractive(key) {\n",
              "          const element = document.querySelector('#df-31cd7781-8039-4127-9f13-2d1299f85544');\n",
              "          const dataTable =\n",
              "            await google.colab.kernel.invokeFunction('convertToInteractive',\n",
              "                                                     [key], {});\n",
              "          if (!dataTable) return;\n",
              "\n",
              "          const docLinkHtml = 'Like what you see? Visit the ' +\n",
              "            '<a target=\"_blank\" href=https://colab.research.google.com/notebooks/data_table.ipynb>data table notebook</a>'\n",
              "            + ' to learn more about interactive tables.';\n",
              "          element.innerHTML = '';\n",
              "          dataTable['output_type'] = 'display_data';\n",
              "          await google.colab.output.renderOutput(dataTable, element);\n",
              "          const docLink = document.createElement('div');\n",
              "          docLink.innerHTML = docLinkHtml;\n",
              "          element.appendChild(docLink);\n",
              "        }\n",
              "      </script>\n",
              "    </div>\n",
              "  </div>\n",
              "  "
            ]
          },
          "metadata": {},
          "execution_count": 9
        }
      ]
    },
    {
      "cell_type": "markdown",
      "source": [
        "Observamos que el intervalo de la última variable $x_1x_2$ tiene una longitud muy pequeña, además dicho intervalo continene al cero, por lo que seguimos sosteniendo la hipótesis de que dicho regresor no es significativo.\n",
        "\n",
        "\n",
        "A partir de este momento vamos a realizar otro modelo descartando $x_1x_2$, haremos un breve anális de él y despues procederemos a hacer el análisis de residuales de ambos modelos\n"
      ],
      "metadata": {
        "id": "YGJUxxpQOBI4"
      }
    },
    {
      "cell_type": "code",
      "source": [
        "#tomamos solo las dos primeras variables\n",
        "X_2var = X[['temperatura', 'medio']]\n",
        "\n",
        "#agregamos la columna de unos\n",
        "X_2var_cons = sm.add_constant(X_2var)\n",
        "\n",
        "#ajustamos el modelos\n",
        "lin_reg_2var = sm.GLS(y, X_2var).fit()\n",
        "\n",
        "lin_reg_2var.summary()"
      ],
      "metadata": {
        "colab": {
          "base_uri": "https://localhost:8080/",
          "height": 504
        },
        "id": "zbo1l5A-Nu6H",
        "outputId": "e57acb6d-9731-4c1c-869e-24f8f91a95c5"
      },
      "execution_count": null,
      "outputs": [
        {
          "output_type": "stream",
          "name": "stderr",
          "text": [
            "/usr/local/lib/python3.10/dist-packages/scipy/stats/_stats_py.py:1736: UserWarning: kurtosistest only valid for n>=20 ... continuing anyway, n=15\n",
            "  warnings.warn(\"kurtosistest only valid for n>=20 ... continuing \"\n"
          ]
        },
        {
          "output_type": "execute_result",
          "data": {
            "text/plain": [
              "<class 'statsmodels.iolib.summary.Summary'>\n",
              "\"\"\"\n",
              "                                 GLS Regression Results                                \n",
              "=======================================================================================\n",
              "Dep. Variable:              log(cont)   R-squared (uncentered):                   0.969\n",
              "Model:                            GLS   Adj. R-squared (uncentered):              0.965\n",
              "Method:                 Least Squares   F-statistic:                              205.2\n",
              "Date:                Sun, 14 May 2023   Prob (F-statistic):                    1.47e-10\n",
              "Time:                        04:23:29   Log-Likelihood:                         -13.838\n",
              "No. Observations:                  15   AIC:                                      31.68\n",
              "Df Residuals:                      13   BIC:                                      33.09\n",
              "Df Model:                           2                                                  \n",
              "Covariance Type:            nonrobust                                                  \n",
              "===============================================================================\n",
              "                  coef    std err          t      P>|t|      [0.025      0.975]\n",
              "-------------------------------------------------------------------------------\n",
              "temperatura     0.0202      0.011      1.812      0.093      -0.004       0.044\n",
              "medio           1.2395      0.144      8.637      0.000       0.929       1.550\n",
              "==============================================================================\n",
              "Omnibus:                        2.975   Durbin-Watson:                   1.591\n",
              "Prob(Omnibus):                  0.226   Jarque-Bera (JB):                1.252\n",
              "Skew:                          -0.271   Prob(JB):                        0.535\n",
              "Kurtosis:                       1.692   Cond. No.                         25.6\n",
              "==============================================================================\n",
              "\n",
              "Notes:\n",
              "[1] R² is computed without centering (uncentered) since the model does not contain a constant.\n",
              "[2] Standard Errors assume that the covariance matrix of the errors is correctly specified.\n",
              "\"\"\""
            ],
            "text/html": [
              "<table class=\"simpletable\">\n",
              "<caption>GLS Regression Results</caption>\n",
              "<tr>\n",
              "  <th>Dep. Variable:</th>        <td>log(cont)</td>    <th>  R-squared (uncentered):</th>      <td>   0.969</td>\n",
              "</tr>\n",
              "<tr>\n",
              "  <th>Model:</th>                   <td>GLS</td>       <th>  Adj. R-squared (uncentered):</th> <td>   0.965</td>\n",
              "</tr>\n",
              "<tr>\n",
              "  <th>Method:</th>             <td>Least Squares</td>  <th>  F-statistic:       </th>          <td>   205.2</td>\n",
              "</tr>\n",
              "<tr>\n",
              "  <th>Date:</th>             <td>Sun, 14 May 2023</td> <th>  Prob (F-statistic):</th>          <td>1.47e-10</td>\n",
              "</tr>\n",
              "<tr>\n",
              "  <th>Time:</th>                 <td>04:23:29</td>     <th>  Log-Likelihood:    </th>          <td> -13.838</td>\n",
              "</tr>\n",
              "<tr>\n",
              "  <th>No. Observations:</th>      <td>    15</td>      <th>  AIC:               </th>          <td>   31.68</td>\n",
              "</tr>\n",
              "<tr>\n",
              "  <th>Df Residuals:</th>          <td>    13</td>      <th>  BIC:               </th>          <td>   33.09</td>\n",
              "</tr>\n",
              "<tr>\n",
              "  <th>Df Model:</th>              <td>     2</td>      <th>                     </th>              <td> </td>   \n",
              "</tr>\n",
              "<tr>\n",
              "  <th>Covariance Type:</th>      <td>nonrobust</td>    <th>                     </th>              <td> </td>   \n",
              "</tr>\n",
              "</table>\n",
              "<table class=\"simpletable\">\n",
              "<tr>\n",
              "       <td></td>          <th>coef</th>     <th>std err</th>      <th>t</th>      <th>P>|t|</th>  <th>[0.025</th>    <th>0.975]</th>  \n",
              "</tr>\n",
              "<tr>\n",
              "  <th>temperatura</th> <td>    0.0202</td> <td>    0.011</td> <td>    1.812</td> <td> 0.093</td> <td>   -0.004</td> <td>    0.044</td>\n",
              "</tr>\n",
              "<tr>\n",
              "  <th>medio</th>       <td>    1.2395</td> <td>    0.144</td> <td>    8.637</td> <td> 0.000</td> <td>    0.929</td> <td>    1.550</td>\n",
              "</tr>\n",
              "</table>\n",
              "<table class=\"simpletable\">\n",
              "<tr>\n",
              "  <th>Omnibus:</th>       <td> 2.975</td> <th>  Durbin-Watson:     </th> <td>   1.591</td>\n",
              "</tr>\n",
              "<tr>\n",
              "  <th>Prob(Omnibus):</th> <td> 0.226</td> <th>  Jarque-Bera (JB):  </th> <td>   1.252</td>\n",
              "</tr>\n",
              "<tr>\n",
              "  <th>Skew:</th>          <td>-0.271</td> <th>  Prob(JB):          </th> <td>   0.535</td>\n",
              "</tr>\n",
              "<tr>\n",
              "  <th>Kurtosis:</th>      <td> 1.692</td> <th>  Cond. No.          </th> <td>    25.6</td>\n",
              "</tr>\n",
              "</table><br/><br/>Notes:<br/>[1] R² is computed without centering (uncentered) since the model does not contain a constant.<br/>[2] Standard Errors assume that the covariance matrix of the errors is correctly specified."
            ]
          },
          "metadata": {},
          "execution_count": 10
        }
      ]
    },
    {
      "cell_type": "markdown",
      "source": [
        "Observamos que el valor de $R^2$ ajustado incremento significativamente a $0.96$. Además, el $p-value$ de la estadística $F$ sigue siendo menor que $0.05$ por lo que existe al menos una variable significativa.\n",
        "\n",
        "\n",
        "Calculemos el error estandar"
      ],
      "metadata": {
        "id": "AHw4kEToQG1-"
      }
    },
    {
      "cell_type": "code",
      "source": [
        "SSR_2var = sum(lin_reg_2var.resid**2)\n",
        "\n",
        "SE_2var = np.sqrt(SSR_2var / (mic.shape[0] - 2 - 1))\n",
        "\n",
        "print(f'SE = {SE_2var}')"
      ],
      "metadata": {
        "colab": {
          "base_uri": "https://localhost:8080/"
        },
        "id": "upuA2pUgQdJD",
        "outputId": "37c80556-1e82-47a3-823c-63ea0465e4b1"
      },
      "execution_count": null,
      "outputs": [
        {
          "output_type": "stream",
          "name": "stdout",
          "text": [
            "SE = 0.6805463256899863\n"
          ]
        }
      ]
    },
    {
      "cell_type": "markdown",
      "source": [
        "El error estandar al considerar sólo la temperatura y el medio sigue siendo de la misma magnitud que el del modelo con todas las variables"
      ],
      "metadata": {
        "id": "EekPrC-CQs-h"
      }
    },
    {
      "cell_type": "code",
      "source": [
        "#precision de los coeficientes\n",
        "lin_reg_2var.bse"
      ],
      "metadata": {
        "colab": {
          "base_uri": "https://localhost:8080/"
        },
        "id": "zi22ROfBQ2AK",
        "outputId": "d6c51d1e-b998-4ab5-a5f2-93716b5c52c5"
      },
      "execution_count": null,
      "outputs": [
        {
          "output_type": "execute_result",
          "data": {
            "text/plain": [
              "temperatura    0.01113\n",
              "medio          0.14351\n",
              "dtype: float64"
            ]
          },
          "metadata": {},
          "execution_count": 12
        }
      ]
    },
    {
      "cell_type": "code",
      "source": [
        "#vemos que todas las variables sean significativas\n",
        "lin_reg_2var.pvalues"
      ],
      "metadata": {
        "colab": {
          "base_uri": "https://localhost:8080/"
        },
        "id": "qkAXHBLpQ6_s",
        "outputId": "8cb15b7c-b28d-4c0b-c950-5d9a687b20fb"
      },
      "execution_count": null,
      "outputs": [
        {
          "output_type": "execute_result",
          "data": {
            "text/plain": [
              "temperatura    9.313401e-02\n",
              "medio          9.572412e-07\n",
              "dtype: float64"
            ]
          },
          "metadata": {},
          "execution_count": 13
        }
      ]
    },
    {
      "cell_type": "code",
      "source": [
        "#intervalos de confianza\n",
        "lin_reg_2var.conf_int()"
      ],
      "metadata": {
        "colab": {
          "base_uri": "https://localhost:8080/",
          "height": 112
        },
        "id": "nBsWfkF6RDmH",
        "outputId": "e34b5fd5-46c3-48ec-9f81-64e3092d0db5"
      },
      "execution_count": null,
      "outputs": [
        {
          "output_type": "execute_result",
          "data": {
            "text/plain": [
              "                    0         1\n",
              "temperatura -0.003877  0.044213\n",
              "medio        0.929461  1.549532"
            ],
            "text/html": [
              "\n",
              "  <div id=\"df-4eb986ed-f930-445c-976d-3155a5d5022f\">\n",
              "    <div class=\"colab-df-container\">\n",
              "      <div>\n",
              "<style scoped>\n",
              "    .dataframe tbody tr th:only-of-type {\n",
              "        vertical-align: middle;\n",
              "    }\n",
              "\n",
              "    .dataframe tbody tr th {\n",
              "        vertical-align: top;\n",
              "    }\n",
              "\n",
              "    .dataframe thead th {\n",
              "        text-align: right;\n",
              "    }\n",
              "</style>\n",
              "<table border=\"1\" class=\"dataframe\">\n",
              "  <thead>\n",
              "    <tr style=\"text-align: right;\">\n",
              "      <th></th>\n",
              "      <th>0</th>\n",
              "      <th>1</th>\n",
              "    </tr>\n",
              "  </thead>\n",
              "  <tbody>\n",
              "    <tr>\n",
              "      <th>temperatura</th>\n",
              "      <td>-0.003877</td>\n",
              "      <td>0.044213</td>\n",
              "    </tr>\n",
              "    <tr>\n",
              "      <th>medio</th>\n",
              "      <td>0.929461</td>\n",
              "      <td>1.549532</td>\n",
              "    </tr>\n",
              "  </tbody>\n",
              "</table>\n",
              "</div>\n",
              "      <button class=\"colab-df-convert\" onclick=\"convertToInteractive('df-4eb986ed-f930-445c-976d-3155a5d5022f')\"\n",
              "              title=\"Convert this dataframe to an interactive table.\"\n",
              "              style=\"display:none;\">\n",
              "        \n",
              "  <svg xmlns=\"http://www.w3.org/2000/svg\" height=\"24px\"viewBox=\"0 0 24 24\"\n",
              "       width=\"24px\">\n",
              "    <path d=\"M0 0h24v24H0V0z\" fill=\"none\"/>\n",
              "    <path d=\"M18.56 5.44l.94 2.06.94-2.06 2.06-.94-2.06-.94-.94-2.06-.94 2.06-2.06.94zm-11 1L8.5 8.5l.94-2.06 2.06-.94-2.06-.94L8.5 2.5l-.94 2.06-2.06.94zm10 10l.94 2.06.94-2.06 2.06-.94-2.06-.94-.94-2.06-.94 2.06-2.06.94z\"/><path d=\"M17.41 7.96l-1.37-1.37c-.4-.4-.92-.59-1.43-.59-.52 0-1.04.2-1.43.59L10.3 9.45l-7.72 7.72c-.78.78-.78 2.05 0 2.83L4 21.41c.39.39.9.59 1.41.59.51 0 1.02-.2 1.41-.59l7.78-7.78 2.81-2.81c.8-.78.8-2.07 0-2.86zM5.41 20L4 18.59l7.72-7.72 1.47 1.35L5.41 20z\"/>\n",
              "  </svg>\n",
              "      </button>\n",
              "      \n",
              "  <style>\n",
              "    .colab-df-container {\n",
              "      display:flex;\n",
              "      flex-wrap:wrap;\n",
              "      gap: 12px;\n",
              "    }\n",
              "\n",
              "    .colab-df-convert {\n",
              "      background-color: #E8F0FE;\n",
              "      border: none;\n",
              "      border-radius: 50%;\n",
              "      cursor: pointer;\n",
              "      display: none;\n",
              "      fill: #1967D2;\n",
              "      height: 32px;\n",
              "      padding: 0 0 0 0;\n",
              "      width: 32px;\n",
              "    }\n",
              "\n",
              "    .colab-df-convert:hover {\n",
              "      background-color: #E2EBFA;\n",
              "      box-shadow: 0px 1px 2px rgba(60, 64, 67, 0.3), 0px 1px 3px 1px rgba(60, 64, 67, 0.15);\n",
              "      fill: #174EA6;\n",
              "    }\n",
              "\n",
              "    [theme=dark] .colab-df-convert {\n",
              "      background-color: #3B4455;\n",
              "      fill: #D2E3FC;\n",
              "    }\n",
              "\n",
              "    [theme=dark] .colab-df-convert:hover {\n",
              "      background-color: #434B5C;\n",
              "      box-shadow: 0px 1px 3px 1px rgba(0, 0, 0, 0.15);\n",
              "      filter: drop-shadow(0px 1px 2px rgba(0, 0, 0, 0.3));\n",
              "      fill: #FFFFFF;\n",
              "    }\n",
              "  </style>\n",
              "\n",
              "      <script>\n",
              "        const buttonEl =\n",
              "          document.querySelector('#df-4eb986ed-f930-445c-976d-3155a5d5022f button.colab-df-convert');\n",
              "        buttonEl.style.display =\n",
              "          google.colab.kernel.accessAllowed ? 'block' : 'none';\n",
              "\n",
              "        async function convertToInteractive(key) {\n",
              "          const element = document.querySelector('#df-4eb986ed-f930-445c-976d-3155a5d5022f');\n",
              "          const dataTable =\n",
              "            await google.colab.kernel.invokeFunction('convertToInteractive',\n",
              "                                                     [key], {});\n",
              "          if (!dataTable) return;\n",
              "\n",
              "          const docLinkHtml = 'Like what you see? Visit the ' +\n",
              "            '<a target=\"_blank\" href=https://colab.research.google.com/notebooks/data_table.ipynb>data table notebook</a>'\n",
              "            + ' to learn more about interactive tables.';\n",
              "          element.innerHTML = '';\n",
              "          dataTable['output_type'] = 'display_data';\n",
              "          await google.colab.output.renderOutput(dataTable, element);\n",
              "          const docLink = document.createElement('div');\n",
              "          docLink.innerHTML = docLinkHtml;\n",
              "          element.appendChild(docLink);\n",
              "        }\n",
              "      </script>\n",
              "    </div>\n",
              "  </div>\n",
              "  "
            ]
          },
          "metadata": {},
          "execution_count": 14
        }
      ]
    },
    {
      "cell_type": "markdown",
      "source": [
        "Vemos que todas las variables son significativas, por lo que todo parece indicar que el modelos con dos regresores es mejor que el modelo al considerar todas las variables. Ahora sí continuamos con el análisis de residuales para ambas regresiones\n",
        "\n",
        "\n",
        "#Análisis de residuales"
      ],
      "metadata": {
        "id": "lRgQkKTBRF60"
      }
    },
    {
      "cell_type": "code",
      "source": [
        "#Grafico de Tukey-Anscombe para la homocedasticidad \n",
        "\n",
        "fig, ax = plt.subplots(nrows=1, ncols=2)\n",
        "fig.set_size_inches(10, 5)\n",
        "\n",
        "models = np.array([lin_reg, lin_reg_2var])\n",
        "\n",
        "labels = [\"Temperatura, Medio y Temperatura*Medio\", \"Temperatura y Medio\"]\n",
        "\n",
        "for i in range(0,2):\n",
        "  ax[i].set_title(labels[i])\n",
        "  ax[i].grid()\n",
        "  ax[i].set_ylim([-1.5,1.5])\n",
        "  ax[i].scatter(np.matmul(models[i].model.exog, models[i].params), models[i].resid);"
      ],
      "metadata": {
        "colab": {
          "base_uri": "https://localhost:8080/",
          "height": 468
        },
        "id": "V5oR5JHiNbUV",
        "outputId": "efb4f64c-ff56-4658-8570-bd6234f6ba74"
      },
      "execution_count": null,
      "outputs": [
        {
          "output_type": "display_data",
          "data": {
            "text/plain": [
              "<Figure size 1000x500 with 2 Axes>"
            ],
            "image/png": "[encoded data removed]"
          },
          "metadata": {}
        }
      ]
    },
    {
      "cell_type": "code",
      "source": [
        "#test de Breusch-Pagan\n",
        "i = 1\n",
        "alpha = 0.05\n",
        "for model in models:\n",
        "    print(\"*** Modelo\", i, \"***\")\n",
        "    i += 1\n",
        "    results = sm.stats.diagnostic.het_goldfeldquandt(model.model.endog, model.model.exog, alternative=\"two-sided\")\n",
        "    p_val = results[1]\n",
        "    print(f\"p_val = {p_val:.3f}\")\n",
        "    if p_val <= alpha:\n",
        "        print(\"Rechazamos H_0: la varianza no es constante\\n\")\n",
        "    else:\n",
        "        print(\"No rechazamos H_0: la varianza es constante\\n\")"
      ],
      "metadata": {
        "colab": {
          "base_uri": "https://localhost:8080/"
        },
        "id": "GFb55HpkRLiC",
        "outputId": "2766cbf9-a5d0-4c58-87b9-30632449e79a"
      },
      "execution_count": null,
      "outputs": [
        {
          "output_type": "stream",
          "name": "stdout",
          "text": [
            "*** Modelo 1 ***\n",
            "p_val = 0.104\n",
            "No rechazamos H_0: la varianza es constante\n",
            "\n",
            "*** Modelo 2 ***\n",
            "p_val = 0.595\n",
            "No rechazamos H_0: la varianza es constante\n",
            "\n"
          ]
        }
      ]
    },
    {
      "cell_type": "markdown",
      "source": [
        "La prueba de Bresuch-Pagan afirma que la varianza es constante. Además, de manera gráfica los puntos se comportan de manera aleatoria, por lo que podemos confirmar que hay homocedasticidad"
      ],
      "metadata": {
        "id": "NUEn4f6GRh6S"
      }
    },
    {
      "cell_type": "code",
      "source": [
        "#Veamos que no hay autocorrelacion mirando el autocorrelograma \n",
        "fig, ax = plt.subplots(nrows=1, ncols=2)\n",
        "fig.set_size_inches(12, 4)\n",
        "\n",
        "for i in range(0,2):\n",
        "  plot_acf(models[i].resid, ax=ax[i], title=f\"Autocorrelación | {labels[i]}\")\n",
        "  "
      ],
      "metadata": {
        "colab": {
          "base_uri": "https://localhost:8080/",
          "height": 391
        },
        "id": "eh_lQbHvQv7I",
        "outputId": "970492ca-f564-4754-b3c7-a70d64eee37e"
      },
      "execution_count": null,
      "outputs": [
        {
          "output_type": "display_data",
          "data": {
            "text/plain": [
              "<Figure size 1200x400 with 2 Axes>"
            ],
            "image/png": "[encoded data removed]"
          },
          "metadata": {}
        }
      ]
    },
    {
      "cell_type": "markdown",
      "source": [
        "Graficamente podemos ver que no hay autocorrelación de los errores dado que ninguna barra sale del intervalo de confianza. \n",
        "\n",
        "Por otro lado, el modelo de las tres varialbes toma un valor de $1.558$ en la prueba de Durbin Watson, mientras que el modelo de la temperatura y el medio toma un valor de $1.591$. Sabemos que para tamaños de muestra moderados (aprox 50 datos) la estadística debe de tomar un valor dentro del intervalo $(1.5, 2.5)$. Hay que recordar que estamos trabajando con 15 datos, lo cual es menor que 50, pero debido a que el autocorrelograma mostró que no hay correlación, entonces concluimos que se cumple el supuesto de no correlación."
      ],
      "metadata": {
        "id": "25WxWdpuTowv"
      }
    },
    {
      "cell_type": "code",
      "source": [
        "#normalidad de los residuales\n",
        "\n",
        "fig, ax = plt.subplots(nrows=1, ncols=2)\n",
        "fig.set_size_inches(10, 5)\n",
        "\n",
        "for j in range(0,2):\n",
        "  ax[j].set_title(labels[j])\n",
        "  ax[j].grid()\n",
        "\n",
        "  n, k = models[j].model.exog.shape\n",
        "  k -= 1\n",
        "  res = models[j].resid\n",
        "  se = np.sqrt( np.sum(res ** 2) / (n - k - 1 ))\n",
        "  std_res = res / se\n",
        "        \n",
        "  _fig = sm.qqplot(std_res, ax=ax[j], line=\"45\")\n",
        "        "
      ],
      "metadata": {
        "colab": {
          "base_uri": "https://localhost:8080/",
          "height": 487
        },
        "id": "88sUQko0mZpT",
        "outputId": "403b9522-93da-4729-a15e-298ecb2a3e6c"
      },
      "execution_count": null,
      "outputs": [
        {
          "output_type": "display_data",
          "data": {
            "text/plain": [
              "<Figure size 1000x500 with 2 Axes>"
            ],
            "image/png": "[encoded data removed]"
          },
          "metadata": {}
        }
      ]
    },
    {
      "cell_type": "code",
      "source": [
        "#Prueba shapiro\n",
        "alpha = 0.05\n",
        "i = 1\n",
        "\n",
        "for model in models:\n",
        "    print(\"Modelo \", i)\n",
        "    i += 1\n",
        "    s, p_val = stats.shapiro(model.resid)\n",
        "    if p_val <= alpha:\n",
        "        print(\"Rechazamos la hipósis nula: No hay normalidad\\np_val \", p_val, \"\\n\")\n",
        "    else:\n",
        "        print(\"No rechazamos la hipótesis nula: hay normalidad\\np_val\", p_val, \"\\n\")\n",
        "        "
      ],
      "metadata": {
        "colab": {
          "base_uri": "https://localhost:8080/"
        },
        "id": "ozp_xqrIUEtP",
        "outputId": "62d9d887-b777-4f71-e2c2-4aace1a2e09d"
      },
      "execution_count": null,
      "outputs": [
        {
          "output_type": "stream",
          "name": "stdout",
          "text": [
            "Modelo  1\n",
            "No rechazamos la hipótesis nula: hay normalidad\n",
            "p_val 0.7775682210922241 \n",
            "\n",
            "Modelo  2\n",
            "No rechazamos la hipótesis nula: hay normalidad\n",
            "p_val 0.20921210944652557 \n",
            "\n"
          ]
        }
      ]
    },
    {
      "cell_type": "markdown",
      "source": [
        "Haciendo un análisis gráfico y uno con la prueba Shapiro concluimos que los errores se distribuyen de manera normal"
      ],
      "metadata": {
        "id": "swfivVkMbVch"
      }
    },
    {
      "cell_type": "code",
      "source": [
        "#multicolinealidad\n",
        "mic[['temperatura', 'medio', 'x1x2']].corr()"
      ],
      "metadata": {
        "colab": {
          "base_uri": "https://localhost:8080/",
          "height": 143
        },
        "id": "4epB4jUKa4jR",
        "outputId": "e16d73f6-c426-42ec-c8a7-8f41a8887127"
      },
      "execution_count": null,
      "outputs": [
        {
          "output_type": "execute_result",
          "data": {
            "text/plain": [
              "             temperatura     medio      x1x2\n",
              "temperatura     1.000000  0.187271  0.464834\n",
              "medio           0.187271  1.000000  0.935660\n",
              "x1x2            0.464834  0.935660  1.000000"
            ],
            "text/html": [
              "\n",
              "  <div id=\"df-9cc3fce8-39b3-4c13-98e9-370ecb2fbf5e\">\n",
              "    <div class=\"colab-df-container\">\n",
              "      <div>\n",
              "<style scoped>\n",
              "    .dataframe tbody tr th:only-of-type {\n",
              "        vertical-align: middle;\n",
              "    }\n",
              "\n",
              "    .dataframe tbody tr th {\n",
              "        vertical-align: top;\n",
              "    }\n",
              "\n",
              "    .dataframe thead th {\n",
              "        text-align: right;\n",
              "    }\n",
              "</style>\n",
              "<table border=\"1\" class=\"dataframe\">\n",
              "  <thead>\n",
              "    <tr style=\"text-align: right;\">\n",
              "      <th></th>\n",
              "      <th>temperatura</th>\n",
              "      <th>medio</th>\n",
              "      <th>x1x2</th>\n",
              "    </tr>\n",
              "  </thead>\n",
              "  <tbody>\n",
              "    <tr>\n",
              "      <th>temperatura</th>\n",
              "      <td>1.000000</td>\n",
              "      <td>0.187271</td>\n",
              "      <td>0.464834</td>\n",
              "    </tr>\n",
              "    <tr>\n",
              "      <th>medio</th>\n",
              "      <td>0.187271</td>\n",
              "      <td>1.000000</td>\n",
              "      <td>0.935660</td>\n",
              "    </tr>\n",
              "    <tr>\n",
              "      <th>x1x2</th>\n",
              "      <td>0.464834</td>\n",
              "      <td>0.935660</td>\n",
              "      <td>1.000000</td>\n",
              "    </tr>\n",
              "  </tbody>\n",
              "</table>\n",
              "</div>\n",
              "      <button class=\"colab-df-convert\" onclick=\"convertToInteractive('df-9cc3fce8-39b3-4c13-98e9-370ecb2fbf5e')\"\n",
              "              title=\"Convert this dataframe to an interactive table.\"\n",
              "              style=\"display:none;\">\n",
              "        \n",
              "  <svg xmlns=\"http://www.w3.org/2000/svg\" height=\"24px\"viewBox=\"0 0 24 24\"\n",
              "       width=\"24px\">\n",
              "    <path d=\"M0 0h24v24H0V0z\" fill=\"none\"/>\n",
              "    <path d=\"M18.56 5.44l.94 2.06.94-2.06 2.06-.94-2.06-.94-.94-2.06-.94 2.06-2.06.94zm-11 1L8.5 8.5l.94-2.06 2.06-.94-2.06-.94L8.5 2.5l-.94 2.06-2.06.94zm10 10l.94 2.06.94-2.06 2.06-.94-2.06-.94-.94-2.06-.94 2.06-2.06.94z\"/><path d=\"M17.41 7.96l-1.37-1.37c-.4-.4-.92-.59-1.43-.59-.52 0-1.04.2-1.43.59L10.3 9.45l-7.72 7.72c-.78.78-.78 2.05 0 2.83L4 21.41c.39.39.9.59 1.41.59.51 0 1.02-.2 1.41-.59l7.78-7.78 2.81-2.81c.8-.78.8-2.07 0-2.86zM5.41 20L4 18.59l7.72-7.72 1.47 1.35L5.41 20z\"/>\n",
              "  </svg>\n",
              "      </button>\n",
              "      \n",
              "  <style>\n",
              "    .colab-df-container {\n",
              "      display:flex;\n",
              "      flex-wrap:wrap;\n",
              "      gap: 12px;\n",
              "    }\n",
              "\n",
              "    .colab-df-convert {\n",
              "      background-color: #E8F0FE;\n",
              "      border: none;\n",
              "      border-radius: 50%;\n",
              "      cursor: pointer;\n",
              "      display: none;\n",
              "      fill: #1967D2;\n",
              "      height: 32px;\n",
              "      padding: 0 0 0 0;\n",
              "      width: 32px;\n",
              "    }\n",
              "\n",
              "    .colab-df-convert:hover {\n",
              "      background-color: #E2EBFA;\n",
              "      box-shadow: 0px 1px 2px rgba(60, 64, 67, 0.3), 0px 1px 3px 1px rgba(60, 64, 67, 0.15);\n",
              "      fill: #174EA6;\n",
              "    }\n",
              "\n",
              "    [theme=dark] .colab-df-convert {\n",
              "      background-color: #3B4455;\n",
              "      fill: #D2E3FC;\n",
              "    }\n",
              "\n",
              "    [theme=dark] .colab-df-convert:hover {\n",
              "      background-color: #434B5C;\n",
              "      box-shadow: 0px 1px 3px 1px rgba(0, 0, 0, 0.15);\n",
              "      filter: drop-shadow(0px 1px 2px rgba(0, 0, 0, 0.3));\n",
              "      fill: #FFFFFF;\n",
              "    }\n",
              "  </style>\n",
              "\n",
              "      <script>\n",
              "        const buttonEl =\n",
              "          document.querySelector('#df-9cc3fce8-39b3-4c13-98e9-370ecb2fbf5e button.colab-df-convert');\n",
              "        buttonEl.style.display =\n",
              "          google.colab.kernel.accessAllowed ? 'block' : 'none';\n",
              "\n",
              "        async function convertToInteractive(key) {\n",
              "          const element = document.querySelector('#df-9cc3fce8-39b3-4c13-98e9-370ecb2fbf5e');\n",
              "          const dataTable =\n",
              "            await google.colab.kernel.invokeFunction('convertToInteractive',\n",
              "                                                     [key], {});\n",
              "          if (!dataTable) return;\n",
              "\n",
              "          const docLinkHtml = 'Like what you see? Visit the ' +\n",
              "            '<a target=\"_blank\" href=https://colab.research.google.com/notebooks/data_table.ipynb>data table notebook</a>'\n",
              "            + ' to learn more about interactive tables.';\n",
              "          element.innerHTML = '';\n",
              "          dataTable['output_type'] = 'display_data';\n",
              "          await google.colab.output.renderOutput(dataTable, element);\n",
              "          const docLink = document.createElement('div');\n",
              "          docLink.innerHTML = docLinkHtml;\n",
              "          element.appendChild(docLink);\n",
              "        }\n",
              "      </script>\n",
              "    </div>\n",
              "  </div>\n",
              "  "
            ]
          },
          "metadata": {},
          "execution_count": 20
        }
      ]
    },
    {
      "cell_type": "code",
      "source": [
        "mic[['temperatura', 'medio']].corr()"
      ],
      "metadata": {
        "colab": {
          "base_uri": "https://localhost:8080/",
          "height": 112
        },
        "id": "eu95ZkymbPvD",
        "outputId": "44c9708d-9dbd-4903-bb9a-2a66ffecdb38"
      },
      "execution_count": null,
      "outputs": [
        {
          "output_type": "execute_result",
          "data": {
            "text/plain": [
              "             temperatura     medio\n",
              "temperatura     1.000000  0.187271\n",
              "medio           0.187271  1.000000"
            ],
            "text/html": [
              "\n",
              "  <div id=\"df-7b27cbd6-a9e1-48d2-89fc-97c385d87a63\">\n",
              "    <div class=\"colab-df-container\">\n",
              "      <div>\n",
              "<style scoped>\n",
              "    .dataframe tbody tr th:only-of-type {\n",
              "        vertical-align: middle;\n",
              "    }\n",
              "\n",
              "    .dataframe tbody tr th {\n",
              "        vertical-align: top;\n",
              "    }\n",
              "\n",
              "    .dataframe thead th {\n",
              "        text-align: right;\n",
              "    }\n",
              "</style>\n",
              "<table border=\"1\" class=\"dataframe\">\n",
              "  <thead>\n",
              "    <tr style=\"text-align: right;\">\n",
              "      <th></th>\n",
              "      <th>temperatura</th>\n",
              "      <th>medio</th>\n",
              "    </tr>\n",
              "  </thead>\n",
              "  <tbody>\n",
              "    <tr>\n",
              "      <th>temperatura</th>\n",
              "      <td>1.000000</td>\n",
              "      <td>0.187271</td>\n",
              "    </tr>\n",
              "    <tr>\n",
              "      <th>medio</th>\n",
              "      <td>0.187271</td>\n",
              "      <td>1.000000</td>\n",
              "    </tr>\n",
              "  </tbody>\n",
              "</table>\n",
              "</div>\n",
              "      <button class=\"colab-df-convert\" onclick=\"convertToInteractive('df-7b27cbd6-a9e1-48d2-89fc-97c385d87a63')\"\n",
              "              title=\"Convert this dataframe to an interactive table.\"\n",
              "              style=\"display:none;\">\n",
              "        \n",
              "  <svg xmlns=\"http://www.w3.org/2000/svg\" height=\"24px\"viewBox=\"0 0 24 24\"\n",
              "       width=\"24px\">\n",
              "    <path d=\"M0 0h24v24H0V0z\" fill=\"none\"/>\n",
              "    <path d=\"M18.56 5.44l.94 2.06.94-2.06 2.06-.94-2.06-.94-.94-2.06-.94 2.06-2.06.94zm-11 1L8.5 8.5l.94-2.06 2.06-.94-2.06-.94L8.5 2.5l-.94 2.06-2.06.94zm10 10l.94 2.06.94-2.06 2.06-.94-2.06-.94-.94-2.06-.94 2.06-2.06.94z\"/><path d=\"M17.41 7.96l-1.37-1.37c-.4-.4-.92-.59-1.43-.59-.52 0-1.04.2-1.43.59L10.3 9.45l-7.72 7.72c-.78.78-.78 2.05 0 2.83L4 21.41c.39.39.9.59 1.41.59.51 0 1.02-.2 1.41-.59l7.78-7.78 2.81-2.81c.8-.78.8-2.07 0-2.86zM5.41 20L4 18.59l7.72-7.72 1.47 1.35L5.41 20z\"/>\n",
              "  </svg>\n",
              "      </button>\n",
              "      \n",
              "  <style>\n",
              "    .colab-df-container {\n",
              "      display:flex;\n",
              "      flex-wrap:wrap;\n",
              "      gap: 12px;\n",
              "    }\n",
              "\n",
              "    .colab-df-convert {\n",
              "      background-color: #E8F0FE;\n",
              "      border: none;\n",
              "      border-radius: 50%;\n",
              "      cursor: pointer;\n",
              "      display: none;\n",
              "      fill: #1967D2;\n",
              "      height: 32px;\n",
              "      padding: 0 0 0 0;\n",
              "      width: 32px;\n",
              "    }\n",
              "\n",
              "    .colab-df-convert:hover {\n",
              "      background-color: #E2EBFA;\n",
              "      box-shadow: 0px 1px 2px rgba(60, 64, 67, 0.3), 0px 1px 3px 1px rgba(60, 64, 67, 0.15);\n",
              "      fill: #174EA6;\n",
              "    }\n",
              "\n",
              "    [theme=dark] .colab-df-convert {\n",
              "      background-color: #3B4455;\n",
              "      fill: #D2E3FC;\n",
              "    }\n",
              "\n",
              "    [theme=dark] .colab-df-convert:hover {\n",
              "      background-color: #434B5C;\n",
              "      box-shadow: 0px 1px 3px 1px rgba(0, 0, 0, 0.15);\n",
              "      filter: drop-shadow(0px 1px 2px rgba(0, 0, 0, 0.3));\n",
              "      fill: #FFFFFF;\n",
              "    }\n",
              "  </style>\n",
              "\n",
              "      <script>\n",
              "        const buttonEl =\n",
              "          document.querySelector('#df-7b27cbd6-a9e1-48d2-89fc-97c385d87a63 button.colab-df-convert');\n",
              "        buttonEl.style.display =\n",
              "          google.colab.kernel.accessAllowed ? 'block' : 'none';\n",
              "\n",
              "        async function convertToInteractive(key) {\n",
              "          const element = document.querySelector('#df-7b27cbd6-a9e1-48d2-89fc-97c385d87a63');\n",
              "          const dataTable =\n",
              "            await google.colab.kernel.invokeFunction('convertToInteractive',\n",
              "                                                     [key], {});\n",
              "          if (!dataTable) return;\n",
              "\n",
              "          const docLinkHtml = 'Like what you see? Visit the ' +\n",
              "            '<a target=\"_blank\" href=https://colab.research.google.com/notebooks/data_table.ipynb>data table notebook</a>'\n",
              "            + ' to learn more about interactive tables.';\n",
              "          element.innerHTML = '';\n",
              "          dataTable['output_type'] = 'display_data';\n",
              "          await google.colab.output.renderOutput(dataTable, element);\n",
              "          const docLink = document.createElement('div');\n",
              "          docLink.innerHTML = docLinkHtml;\n",
              "          element.appendChild(docLink);\n",
              "        }\n",
              "      </script>\n",
              "    </div>\n",
              "  </div>\n",
              "  "
            ]
          },
          "metadata": {},
          "execution_count": 21
        }
      ]
    },
    {
      "cell_type": "markdown",
      "source": [
        "Podemos observar que hay una alta correlación entre las variables de medio y $x_1x_2$, por lo que podemos descartar al modelo con dichas tres variables  debido a que tiene una $R^2$ ajustada menor que el otro modelo y debido a la multicolinealidad\n",
        "\n",
        "\n",
        "De esta manera concluimos que se cumplen los supuestos, por lo que podemos elegir entre ambos modelos. Claramente tomaremos aquel con el valor de la $R^2$ ajustada mayor, el cual es el modelo que unicamente contempla la temperatura y el medio"
      ],
      "metadata": {
        "id": "qQQMIZXHW0Qt"
      }
    },
    {
      "cell_type": "code",
      "source": [
        "fig = plt.figure()\n",
        "ax = fig.add_subplot(projection='3d')\n",
        "\n",
        "ax.scatter(mic['temperatura'], mic['medio'], mic['log(cont)'], marker = 'o')\n",
        "ax.view_init(-150,35)\n",
        "plt.show()"
      ],
      "metadata": {
        "colab": {
          "base_uri": "https://localhost:8080/",
          "height": 416
        },
        "id": "VZH8IE4-Wv-g",
        "outputId": "acbb899b-bfe6-4a71-e00a-2890773db82a"
      },
      "execution_count": null,
      "outputs": [
        {
          "output_type": "display_data",
          "data": {
            "text/plain": [
              "<Figure size 640x480 with 1 Axes>"
            ],
            "image/png": "[encoded data removed]"
          },
          "metadata": {}
        }
      ]
    },
    {
      "cell_type": "code",
      "source": [
        "coefs = [0.0202, 1.2395]\n",
        "\n",
        "fig, ax = plt.subplots(subplot_kw={\"projection\": \"3d\"})\n",
        "\n",
        "#temperatura\n",
        "X = np.arange(10, 50, 0.25)\n",
        "\n",
        "#medio\n",
        "Y = np.arange(0, 5, 0.1)\n",
        "X, Y = np.meshgrid(X, Y)\n",
        "Z = coefs[0]*X + coefs[1]*Y\n",
        "\n",
        "surf = ax.plot_surface(X, Y, Z, cmap=cm.coolwarm,\n",
        "                       linewidth=0, antialiased=False, alpha = 0.4)\n",
        "ax.scatter(mic['temperatura'], mic['medio'], mic['log(cont)'], marker = 'o')\n",
        "\n",
        "ax.view_init(-150,35)\n",
        "plt.show()"
      ],
      "metadata": {
        "colab": {
          "base_uri": "https://localhost:8080/",
          "height": 416
        },
        "id": "POHdbf0AYxnL",
        "outputId": "8255faee-1988-47ab-ab7d-e79d49698f6a"
      },
      "execution_count": null,
      "outputs": [
        {
          "output_type": "display_data",
          "data": {
            "text/plain": [
              "<Figure size 640x480 with 1 Axes>"
            ],
            "image/png": "[encoded data removed]"
          },
          "metadata": {}
        }
      ]
    },
    {
      "cell_type": "markdown",
      "source": [
        "Concluimos que la hipótesis es cierta"
      ],
      "metadata": {
        "id": "GG2pTiG2AgHG"
      }
    },
    {
      "cell_type": "code",
      "source": [],
      "metadata": {
        "id": "47AeDDHPcZ79"
      },
      "execution_count": null,
      "outputs": []
    }
  ]
}